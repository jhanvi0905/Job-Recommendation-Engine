{
  "nbformat": 4,
  "nbformat_minor": 0,
  "metadata": {
    "colab": {
      "name": "Job Recommendation.ipynb",
      "provenance": [],
      "authorship_tag": "ABX9TyN3yWlrN8gl4vvKcNcpBSLU"
    },
    "kernelspec": {
      "name": "python3",
      "display_name": "Python 3"
    },
    "accelerator": "GPU"
  },
  "cells": [
    {
      "cell_type": "markdown",
      "metadata": {
        "id": "kFBGYNgDwTKE",
        "colab_type": "text"
      },
      "source": [
        "**Setting Up Starspace** "
      ]
    },
    {
      "cell_type": "code",
      "metadata": {
        "id": "88E9l0Z18HUI",
        "colab_type": "code",
        "colab": {}
      },
      "source": [
        "import os\n",
        "def setup_starspace():\n",
        "    if not os.path.exists(\"/usr/local/bin/starspace\"):\n",
        "        os.system(\"wget https://dl.bintray.com/boostorg/release/1.63.0/source/boost_1_63_0.zip\")\n",
        "        os.system(\"unzip boost_1_63_0.zip && mv boost_1_63_0 /usr/local/bin\")\n",
        "        os.system(\"git clone https://github.com/facebookresearch/Starspace.git\")\n",
        "        os.system(\"cd Starspace && make && cp -Rf starspace /usr/local/bin\")\n",
        "setup_starspace()"
      ],
      "execution_count": 2,
      "outputs": []
    },
    {
      "cell_type": "markdown",
      "metadata": {
        "id": "TBVFGS_rwl-2",
        "colab_type": "text"
      },
      "source": [
        "**Downloading and Storing the Job Recommendation Challenge Dataset**"
      ]
    },
    {
      "cell_type": "code",
      "metadata": {
        "id": "GDiFeIzUdfl-",
        "colab_type": "code",
        "colab": {
          "base_uri": "https://localhost:8080/",
          "height": 67
        },
        "outputId": "c23d0ebd-a127-41ec-dcf1-bbdbef70b68d"
      },
      "source": [
        "!kaggle datasets download -d kandij/job-recommendation-datasets"
      ],
      "execution_count": 5,
      "outputs": [
        {
          "output_type": "stream",
          "text": [
            "Downloading job-recommendation-datasets.zip to /content\n",
            " 78% 41.0M/52.4M [00:01<00:00, 23.2MB/s]\n",
            "100% 52.4M/52.4M [00:01<00:00, 35.0MB/s]\n"
          ],
          "name": "stdout"
        }
      ]
    },
    {
      "cell_type": "code",
      "metadata": {
        "id": "wiLW_svSeCAN",
        "colab_type": "code",
        "colab": {
          "base_uri": "https://localhost:8080/",
          "height": 118
        },
        "outputId": "1de8fa80-b47d-4a35-f840-e960522cd404"
      },
      "source": [
        "!mkdir job-dataset\n",
        "!unzip job-recommendation-datasets.zip -d job-dataset"
      ],
      "execution_count": 6,
      "outputs": [
        {
          "output_type": "stream",
          "text": [
            "Archive:  job-recommendation-datasets.zip\n",
            "  inflating: job-dataset/Combined_Jobs_Final.csv  \n",
            "  inflating: job-dataset/Experience.csv  \n",
            "  inflating: job-dataset/Job_Views.csv  \n",
            "  inflating: job-dataset/Positions_Of_Interest.csv  \n",
            "  inflating: job-dataset/job_data.csv  \n"
          ],
          "name": "stdout"
        }
      ]
    },
    {
      "cell_type": "code",
      "metadata": {
        "id": "mvnt2H3JebNq",
        "colab_type": "code",
        "colab": {}
      },
      "source": [
        "import pandas as pd\n",
        "import numpy as np"
      ],
      "execution_count": 7,
      "outputs": []
    },
    {
      "cell_type": "markdown",
      "metadata": {
        "id": "2L4EV3bWw2FO",
        "colab_type": "text"
      },
      "source": [
        "**Descriptions of Loaded Dataframe**\n",
        "\n",
        "1. jobs = Job Listings \n",
        "2. job_views= Job listings viewed by various applicants\n",
        "3. experience= Previous Experience details of applicants\n",
        "4. positions= Positions of Interest to the Applicants"
      ]
    },
    {
      "cell_type": "code",
      "metadata": {
        "id": "G6s-YroqOUOH",
        "colab_type": "code",
        "colab": {}
      },
      "source": [
        "jobs = pd.read_csv(\"/content/job-dataset/Combined_Jobs_Final.csv\")\n",
        "job_views = pd.read_csv(\"/content/job-dataset/Job_Views.csv\")\n",
        "experience = pd.read_csv(\"/content/job-dataset/Experience.csv\")\n",
        "positions =  pd.read_csv(\"/content/job-dataset/Positions_Of_Interest.csv\", sep=',')"
      ],
      "execution_count": 8,
      "outputs": []
    },
    {
      "cell_type": "code",
      "metadata": {
        "id": "5bd36816PPSM",
        "colab_type": "code",
        "colab": {
          "base_uri": "https://localhost:8080/",
          "height": 568
        },
        "outputId": "808d3102-7c8e-46a9-8220-f41ab3ab685d"
      },
      "source": [
        "jobs.head()"
      ],
      "execution_count": 9,
      "outputs": [
        {
          "output_type": "execute_result",
          "data": {
            "text/html": [
              "<div>\n",
              "<style scoped>\n",
              "    .dataframe tbody tr th:only-of-type {\n",
              "        vertical-align: middle;\n",
              "    }\n",
              "\n",
              "    .dataframe tbody tr th {\n",
              "        vertical-align: top;\n",
              "    }\n",
              "\n",
              "    .dataframe thead th {\n",
              "        text-align: right;\n",
              "    }\n",
              "</style>\n",
              "<table border=\"1\" class=\"dataframe\">\n",
              "  <thead>\n",
              "    <tr style=\"text-align: right;\">\n",
              "      <th></th>\n",
              "      <th>Job.ID</th>\n",
              "      <th>Provider</th>\n",
              "      <th>Status</th>\n",
              "      <th>Slug</th>\n",
              "      <th>Title</th>\n",
              "      <th>Position</th>\n",
              "      <th>Company</th>\n",
              "      <th>City</th>\n",
              "      <th>State.Name</th>\n",
              "      <th>State.Code</th>\n",
              "      <th>Address</th>\n",
              "      <th>Latitude</th>\n",
              "      <th>Longitude</th>\n",
              "      <th>Industry</th>\n",
              "      <th>Job.Description</th>\n",
              "      <th>Requirements</th>\n",
              "      <th>Salary</th>\n",
              "      <th>Listing.Start</th>\n",
              "      <th>Listing.End</th>\n",
              "      <th>Employment.Type</th>\n",
              "      <th>Education.Required</th>\n",
              "      <th>Created.At</th>\n",
              "      <th>Updated.At</th>\n",
              "    </tr>\n",
              "  </thead>\n",
              "  <tbody>\n",
              "    <tr>\n",
              "      <th>0</th>\n",
              "      <td>111</td>\n",
              "      <td>1</td>\n",
              "      <td>open</td>\n",
              "      <td>palo-alto-ca-tacolicious-server</td>\n",
              "      <td>Server @ Tacolicious</td>\n",
              "      <td>Server</td>\n",
              "      <td>Tacolicious</td>\n",
              "      <td>Palo Alto</td>\n",
              "      <td>California</td>\n",
              "      <td>CA</td>\n",
              "      <td>NaN</td>\n",
              "      <td>37.443346</td>\n",
              "      <td>-122.161170</td>\n",
              "      <td>Food and Beverages</td>\n",
              "      <td>Tacolicious' first Palo Alto store just opened...</td>\n",
              "      <td>NaN</td>\n",
              "      <td>8.00</td>\n",
              "      <td>NaN</td>\n",
              "      <td>NaN</td>\n",
              "      <td>Part-Time</td>\n",
              "      <td>NaN</td>\n",
              "      <td>2013-03-12 02:08:28 UTC</td>\n",
              "      <td>2014-08-16 15:35:36 UTC</td>\n",
              "    </tr>\n",
              "    <tr>\n",
              "      <th>1</th>\n",
              "      <td>113</td>\n",
              "      <td>1</td>\n",
              "      <td>open</td>\n",
              "      <td>san-francisco-ca-claude-lane-kitchen-staff-chef</td>\n",
              "      <td>Kitchen Staff/Chef @ Claude Lane</td>\n",
              "      <td>Kitchen Staff/Chef</td>\n",
              "      <td>Claude Lane</td>\n",
              "      <td>San Francisco</td>\n",
              "      <td>California</td>\n",
              "      <td>CA</td>\n",
              "      <td>NaN</td>\n",
              "      <td>37.789830</td>\n",
              "      <td>-122.404268</td>\n",
              "      <td>Food and Beverages</td>\n",
              "      <td>\\r\\n\\r\\nNew French Brasserie in S.F. Financia...</td>\n",
              "      <td>NaN</td>\n",
              "      <td>0.00</td>\n",
              "      <td>NaN</td>\n",
              "      <td>NaN</td>\n",
              "      <td>Part-Time</td>\n",
              "      <td>NaN</td>\n",
              "      <td>2013-04-12 08:36:36 UTC</td>\n",
              "      <td>2014-08-16 15:35:36 UTC</td>\n",
              "    </tr>\n",
              "    <tr>\n",
              "      <th>2</th>\n",
              "      <td>117</td>\n",
              "      <td>1</td>\n",
              "      <td>open</td>\n",
              "      <td>san-francisco-ca-machka-restaurants-corp-barte...</td>\n",
              "      <td>Bartender @ Machka Restaurants Corp.</td>\n",
              "      <td>Bartender</td>\n",
              "      <td>Machka Restaurants Corp.</td>\n",
              "      <td>San Francisco</td>\n",
              "      <td>California</td>\n",
              "      <td>CA</td>\n",
              "      <td>NaN</td>\n",
              "      <td>37.795597</td>\n",
              "      <td>-122.402963</td>\n",
              "      <td>Food and Beverages</td>\n",
              "      <td>We are a popular Mediterranean wine bar and re...</td>\n",
              "      <td>NaN</td>\n",
              "      <td>11.00</td>\n",
              "      <td>NaN</td>\n",
              "      <td>NaN</td>\n",
              "      <td>Part-Time</td>\n",
              "      <td>NaN</td>\n",
              "      <td>2013-07-16 09:34:10 UTC</td>\n",
              "      <td>2014-08-16 15:35:37 UTC</td>\n",
              "    </tr>\n",
              "    <tr>\n",
              "      <th>3</th>\n",
              "      <td>121</td>\n",
              "      <td>1</td>\n",
              "      <td>open</td>\n",
              "      <td>brisbane-ca-teriyaki-house-server</td>\n",
              "      <td>Server @ Teriyaki House</td>\n",
              "      <td>Server</td>\n",
              "      <td>Teriyaki House</td>\n",
              "      <td>Brisbane</td>\n",
              "      <td>California</td>\n",
              "      <td>CA</td>\n",
              "      <td>NaN</td>\n",
              "      <td>37.685073</td>\n",
              "      <td>-122.400275</td>\n",
              "      <td>Food and Beverages</td>\n",
              "      <td>● Serve food/drinks to customers in a profess...</td>\n",
              "      <td>NaN</td>\n",
              "      <td>10.55</td>\n",
              "      <td>NaN</td>\n",
              "      <td>NaN</td>\n",
              "      <td>Part-Time</td>\n",
              "      <td>NaN</td>\n",
              "      <td>2013-09-04 15:40:30 UTC</td>\n",
              "      <td>2014-08-16 15:35:38 UTC</td>\n",
              "    </tr>\n",
              "    <tr>\n",
              "      <th>4</th>\n",
              "      <td>127</td>\n",
              "      <td>1</td>\n",
              "      <td>open</td>\n",
              "      <td>los-angeles-ca-rosa-mexicano-sunset-kitchen-st...</td>\n",
              "      <td>Kitchen Staff/Chef @ Rosa Mexicano - Sunset</td>\n",
              "      <td>Kitchen Staff/Chef</td>\n",
              "      <td>Rosa Mexicano - Sunset</td>\n",
              "      <td>Los Angeles</td>\n",
              "      <td>California</td>\n",
              "      <td>CA</td>\n",
              "      <td>NaN</td>\n",
              "      <td>34.073384</td>\n",
              "      <td>-118.460439</td>\n",
              "      <td>Food and Beverages</td>\n",
              "      <td>Located at the heart of Hollywood, we are one ...</td>\n",
              "      <td>NaN</td>\n",
              "      <td>10.55</td>\n",
              "      <td>NaN</td>\n",
              "      <td>NaN</td>\n",
              "      <td>Part-Time</td>\n",
              "      <td>NaN</td>\n",
              "      <td>2013-07-17 15:26:18 UTC</td>\n",
              "      <td>2014-08-16 15:35:40 UTC</td>\n",
              "    </tr>\n",
              "  </tbody>\n",
              "</table>\n",
              "</div>"
            ],
            "text/plain": [
              "   Job.ID  Provider  ...               Created.At               Updated.At\n",
              "0     111         1  ...  2013-03-12 02:08:28 UTC  2014-08-16 15:35:36 UTC\n",
              "1     113         1  ...  2013-04-12 08:36:36 UTC  2014-08-16 15:35:36 UTC\n",
              "2     117         1  ...  2013-07-16 09:34:10 UTC  2014-08-16 15:35:37 UTC\n",
              "3     121         1  ...  2013-09-04 15:40:30 UTC  2014-08-16 15:35:38 UTC\n",
              "4     127         1  ...  2013-07-17 15:26:18 UTC  2014-08-16 15:35:40 UTC\n",
              "\n",
              "[5 rows x 23 columns]"
            ]
          },
          "metadata": {
            "tags": []
          },
          "execution_count": 9
        }
      ]
    },
    {
      "cell_type": "markdown",
      "metadata": {
        "id": "BD5NjQPtQBQz",
        "colab_type": "text"
      },
      "source": [
        "Important Columns - Job.ID, Title, Position, Company, City, Job.Description, Employment.Type\n",
        "\n",
        "Extracting Important Information of the Job Listings"
      ]
    },
    {
      "cell_type": "code",
      "metadata": {
        "id": "NgpxNhj4P13Q",
        "colab_type": "code",
        "colab": {
          "base_uri": "https://localhost:8080/",
          "height": 279
        },
        "outputId": "61ff593e-f66e-45b5-bb5d-53cde5c8ea97"
      },
      "source": [
        "# important information for job search and recommendations\n",
        "jobs_info=jobs[['Job.ID', 'Title', 'Position', 'Company', 'City', 'Job.Description', 'Employment.Type']]\n",
        "jobs_info.head()"
      ],
      "execution_count": 10,
      "outputs": [
        {
          "output_type": "execute_result",
          "data": {
            "text/html": [
              "<div>\n",
              "<style scoped>\n",
              "    .dataframe tbody tr th:only-of-type {\n",
              "        vertical-align: middle;\n",
              "    }\n",
              "\n",
              "    .dataframe tbody tr th {\n",
              "        vertical-align: top;\n",
              "    }\n",
              "\n",
              "    .dataframe thead th {\n",
              "        text-align: right;\n",
              "    }\n",
              "</style>\n",
              "<table border=\"1\" class=\"dataframe\">\n",
              "  <thead>\n",
              "    <tr style=\"text-align: right;\">\n",
              "      <th></th>\n",
              "      <th>Job.ID</th>\n",
              "      <th>Title</th>\n",
              "      <th>Position</th>\n",
              "      <th>Company</th>\n",
              "      <th>City</th>\n",
              "      <th>Job.Description</th>\n",
              "      <th>Employment.Type</th>\n",
              "    </tr>\n",
              "  </thead>\n",
              "  <tbody>\n",
              "    <tr>\n",
              "      <th>0</th>\n",
              "      <td>111</td>\n",
              "      <td>Server @ Tacolicious</td>\n",
              "      <td>Server</td>\n",
              "      <td>Tacolicious</td>\n",
              "      <td>Palo Alto</td>\n",
              "      <td>Tacolicious' first Palo Alto store just opened...</td>\n",
              "      <td>Part-Time</td>\n",
              "    </tr>\n",
              "    <tr>\n",
              "      <th>1</th>\n",
              "      <td>113</td>\n",
              "      <td>Kitchen Staff/Chef @ Claude Lane</td>\n",
              "      <td>Kitchen Staff/Chef</td>\n",
              "      <td>Claude Lane</td>\n",
              "      <td>San Francisco</td>\n",
              "      <td>\\r\\n\\r\\nNew French Brasserie in S.F. Financia...</td>\n",
              "      <td>Part-Time</td>\n",
              "    </tr>\n",
              "    <tr>\n",
              "      <th>2</th>\n",
              "      <td>117</td>\n",
              "      <td>Bartender @ Machka Restaurants Corp.</td>\n",
              "      <td>Bartender</td>\n",
              "      <td>Machka Restaurants Corp.</td>\n",
              "      <td>San Francisco</td>\n",
              "      <td>We are a popular Mediterranean wine bar and re...</td>\n",
              "      <td>Part-Time</td>\n",
              "    </tr>\n",
              "    <tr>\n",
              "      <th>3</th>\n",
              "      <td>121</td>\n",
              "      <td>Server @ Teriyaki House</td>\n",
              "      <td>Server</td>\n",
              "      <td>Teriyaki House</td>\n",
              "      <td>Brisbane</td>\n",
              "      <td>● Serve food/drinks to customers in a profess...</td>\n",
              "      <td>Part-Time</td>\n",
              "    </tr>\n",
              "    <tr>\n",
              "      <th>4</th>\n",
              "      <td>127</td>\n",
              "      <td>Kitchen Staff/Chef @ Rosa Mexicano - Sunset</td>\n",
              "      <td>Kitchen Staff/Chef</td>\n",
              "      <td>Rosa Mexicano - Sunset</td>\n",
              "      <td>Los Angeles</td>\n",
              "      <td>Located at the heart of Hollywood, we are one ...</td>\n",
              "      <td>Part-Time</td>\n",
              "    </tr>\n",
              "  </tbody>\n",
              "</table>\n",
              "</div>"
            ],
            "text/plain": [
              "   Job.ID  ... Employment.Type\n",
              "0     111  ...       Part-Time\n",
              "1     113  ...       Part-Time\n",
              "2     117  ...       Part-Time\n",
              "3     121  ...       Part-Time\n",
              "4     127  ...       Part-Time\n",
              "\n",
              "[5 rows x 7 columns]"
            ]
          },
          "metadata": {
            "tags": []
          },
          "execution_count": 10
        }
      ]
    },
    {
      "cell_type": "markdown",
      "metadata": {
        "id": "7y3_38LRxpLR",
        "colab_type": "text"
      },
      "source": [
        "Checking how many important column values are null"
      ]
    },
    {
      "cell_type": "code",
      "metadata": {
        "id": "t_XuisFWREq_",
        "colab_type": "code",
        "colab": {
          "base_uri": "https://localhost:8080/",
          "height": 151
        },
        "outputId": "6d026d03-0b24-456e-eb24-cc52c23bc226"
      },
      "source": [
        "jobs_info.isnull().sum()"
      ],
      "execution_count": 11,
      "outputs": [
        {
          "output_type": "execute_result",
          "data": {
            "text/plain": [
              "Job.ID                0\n",
              "Title                 0\n",
              "Position              0\n",
              "Company            2271\n",
              "City                135\n",
              "Job.Description      56\n",
              "Employment.Type      10\n",
              "dtype: int64"
            ]
          },
          "metadata": {
            "tags": []
          },
          "execution_count": 11
        }
      ]
    },
    {
      "cell_type": "markdown",
      "metadata": {
        "id": "Hk8Qyi5yxwsC",
        "colab_type": "text"
      },
      "source": [
        "Replacing missing company's location values by relevant cities from google"
      ]
    },
    {
      "cell_type": "code",
      "metadata": {
        "id": "cLIn9oJ1Rh9I",
        "colab_type": "code",
        "colab": {
          "base_uri": "https://localhost:8080/",
          "height": 420
        },
        "outputId": "0e495f73-7b91-496b-aea1-3a5a4bca0d4b"
      },
      "source": [
        "empty_city=jobs_info[pd.isnull(jobs_info['City'])]\n",
        "print(empty_city.groupby(['Company'])['City'].count())\n",
        "jobs_info['Company'] = jobs_info['Company'].replace(['Genesis Health Systems'], 'Genesis Health System')\n",
        "jobs_info.loc[jobs_info.Company == 'CHI Payment Systems', 'City'] = 'Illinois'\n",
        "jobs_info.loc[jobs_info.Company == 'Academic Year In America', 'City'] = 'Stamford'\n",
        "jobs_info.loc[jobs_info.Company == 'CBS Healthcare Services and Staffing ', 'City'] = 'Urbandale'\n",
        "jobs_info.loc[jobs_info.Company == 'Driveline Retail', 'City'] = 'Coppell'\n",
        "jobs_info.loc[jobs_info.Company == 'Educational Testing Services', 'City'] = 'New Jersey'\n",
        "jobs_info.loc[jobs_info.Company == 'Genesis Health System', 'City'] = 'Davennport'\n",
        "jobs_info.loc[jobs_info.Company == 'Home Instead Senior Care', 'City'] = 'Nebraska'\n",
        "jobs_info.loc[jobs_info.Company == 'St. Francis Hospital', 'City'] = 'New York'\n",
        "jobs_info.loc[jobs_info.Company == 'Volvo Group', 'City'] = 'Washington'\n",
        "jobs_info.loc[jobs_info.Company == 'CBS Healthcare Services and Staffing', 'City'] = 'Urbandale'"
      ],
      "execution_count": 12,
      "outputs": [
        {
          "output_type": "stream",
          "text": [
            "Company\n",
            "Academic Year In America                0\n",
            "CBS Healthcare Services and Staffing    0\n",
            "CHI Payment Systems                     0\n",
            "Driveline Retail                        0\n",
            "Educational Testing Services            0\n",
            "Genesis Health System                   0\n",
            "Genesis Health Systems                  0\n",
            "Home Instead Senior Care                0\n",
            "St. Francis Hospital                    0\n",
            "Volvo Group                             0\n",
            "Name: City, dtype: int64\n"
          ],
          "name": "stdout"
        },
        {
          "output_type": "stream",
          "text": [
            "/usr/local/lib/python3.6/dist-packages/ipykernel_launcher.py:3: SettingWithCopyWarning: \n",
            "A value is trying to be set on a copy of a slice from a DataFrame.\n",
            "Try using .loc[row_indexer,col_indexer] = value instead\n",
            "\n",
            "See the caveats in the documentation: https://pandas.pydata.org/pandas-docs/stable/user_guide/indexing.html#returning-a-view-versus-a-copy\n",
            "  This is separate from the ipykernel package so we can avoid doing imports until\n",
            "/usr/local/lib/python3.6/dist-packages/pandas/core/indexing.py:966: SettingWithCopyWarning: \n",
            "A value is trying to be set on a copy of a slice from a DataFrame.\n",
            "Try using .loc[row_indexer,col_indexer] = value instead\n",
            "\n",
            "See the caveats in the documentation: https://pandas.pydata.org/pandas-docs/stable/user_guide/indexing.html#returning-a-view-versus-a-copy\n",
            "  self.obj[item] = s\n"
          ],
          "name": "stderr"
        }
      ]
    },
    {
      "cell_type": "markdown",
      "metadata": {
        "id": "OR6Jstmjx8jU",
        "colab_type": "text"
      },
      "source": [
        "Re-checking Null values of column"
      ]
    },
    {
      "cell_type": "code",
      "metadata": {
        "id": "js1vax0XW3K7",
        "colab_type": "code",
        "colab": {
          "base_uri": "https://localhost:8080/",
          "height": 151
        },
        "outputId": "36a8cc6a-fa6f-4394-d953-a9464156192b"
      },
      "source": [
        "jobs_info.isnull().sum()"
      ],
      "execution_count": 13,
      "outputs": [
        {
          "output_type": "execute_result",
          "data": {
            "text/plain": [
              "Job.ID                0\n",
              "Title                 0\n",
              "Position              0\n",
              "Company            2271\n",
              "City                  0\n",
              "Job.Description      56\n",
              "Employment.Type      10\n",
              "dtype: int64"
            ]
          },
          "metadata": {
            "tags": []
          },
          "execution_count": 13
        }
      ]
    },
    {
      "cell_type": "markdown",
      "metadata": {
        "id": "RCzVVTqEyCsA",
        "colab_type": "text"
      },
      "source": [
        "Employment Type empty values"
      ]
    },
    {
      "cell_type": "code",
      "metadata": {
        "id": "4EcMybdKXFtU",
        "colab_type": "code",
        "colab": {
          "base_uri": "https://localhost:8080/",
          "height": 343
        },
        "outputId": "41c25f92-a49a-45a6-fac8-cb1ef8d27212"
      },
      "source": [
        "employee_empty = jobs_info[pd.isnull(jobs_info['Employment.Type'])]\n",
        "employee_empty"
      ],
      "execution_count": 14,
      "outputs": [
        {
          "output_type": "execute_result",
          "data": {
            "text/html": [
              "<div>\n",
              "<style scoped>\n",
              "    .dataframe tbody tr th:only-of-type {\n",
              "        vertical-align: middle;\n",
              "    }\n",
              "\n",
              "    .dataframe tbody tr th {\n",
              "        vertical-align: top;\n",
              "    }\n",
              "\n",
              "    .dataframe thead th {\n",
              "        text-align: right;\n",
              "    }\n",
              "</style>\n",
              "<table border=\"1\" class=\"dataframe\">\n",
              "  <thead>\n",
              "    <tr style=\"text-align: right;\">\n",
              "      <th></th>\n",
              "      <th>Job.ID</th>\n",
              "      <th>Title</th>\n",
              "      <th>Position</th>\n",
              "      <th>Company</th>\n",
              "      <th>City</th>\n",
              "      <th>Job.Description</th>\n",
              "      <th>Employment.Type</th>\n",
              "    </tr>\n",
              "  </thead>\n",
              "  <tbody>\n",
              "    <tr>\n",
              "      <th>10768</th>\n",
              "      <td>153197</td>\n",
              "      <td>Driving Partner @ Uber</td>\n",
              "      <td>Driving Partner</td>\n",
              "      <td>Uber</td>\n",
              "      <td>San Francisco</td>\n",
              "      <td>Uber is changing the way the world moves. From...</td>\n",
              "      <td>NaN</td>\n",
              "    </tr>\n",
              "    <tr>\n",
              "      <th>10769</th>\n",
              "      <td>153198</td>\n",
              "      <td>Driving Partner @ Uber</td>\n",
              "      <td>Driving Partner</td>\n",
              "      <td>Uber</td>\n",
              "      <td>Los Angeles</td>\n",
              "      <td>Uber is changing the way the world moves. From...</td>\n",
              "      <td>NaN</td>\n",
              "    </tr>\n",
              "    <tr>\n",
              "      <th>10770</th>\n",
              "      <td>153199</td>\n",
              "      <td>Driving Partner @ Uber</td>\n",
              "      <td>Driving Partner</td>\n",
              "      <td>Uber</td>\n",
              "      <td>Chicago</td>\n",
              "      <td>Uber is changing the way the world moves. From...</td>\n",
              "      <td>NaN</td>\n",
              "    </tr>\n",
              "    <tr>\n",
              "      <th>10771</th>\n",
              "      <td>153200</td>\n",
              "      <td>Driving Partner @ Uber</td>\n",
              "      <td>Driving Partner</td>\n",
              "      <td>Uber</td>\n",
              "      <td>Boston</td>\n",
              "      <td>Uber is changing the way the world moves. From...</td>\n",
              "      <td>NaN</td>\n",
              "    </tr>\n",
              "    <tr>\n",
              "      <th>10772</th>\n",
              "      <td>153201</td>\n",
              "      <td>Driving Partner @ Uber</td>\n",
              "      <td>Driving Partner</td>\n",
              "      <td>Uber</td>\n",
              "      <td>Ann Arbor</td>\n",
              "      <td>Uber is changing the way the world moves. From...</td>\n",
              "      <td>NaN</td>\n",
              "    </tr>\n",
              "    <tr>\n",
              "      <th>10773</th>\n",
              "      <td>153202</td>\n",
              "      <td>Driving Partner @ Uber</td>\n",
              "      <td>Driving Partner</td>\n",
              "      <td>Uber</td>\n",
              "      <td>Oklahoma</td>\n",
              "      <td>Uber is changing the way the world moves. From...</td>\n",
              "      <td>NaN</td>\n",
              "    </tr>\n",
              "    <tr>\n",
              "      <th>10774</th>\n",
              "      <td>153203</td>\n",
              "      <td>Driving Partner @ Uber</td>\n",
              "      <td>Driving Partner</td>\n",
              "      <td>Uber</td>\n",
              "      <td>Omaha</td>\n",
              "      <td>Uber is changing the way the world moves. From...</td>\n",
              "      <td>NaN</td>\n",
              "    </tr>\n",
              "    <tr>\n",
              "      <th>10775</th>\n",
              "      <td>153204</td>\n",
              "      <td>Driving Partner @ Uber</td>\n",
              "      <td>Driving Partner</td>\n",
              "      <td>Uber</td>\n",
              "      <td>Lincoln</td>\n",
              "      <td>Uber is changing the way the world moves. From...</td>\n",
              "      <td>NaN</td>\n",
              "    </tr>\n",
              "    <tr>\n",
              "      <th>10776</th>\n",
              "      <td>153205</td>\n",
              "      <td>Driving Partner @ Uber</td>\n",
              "      <td>Driving Partner</td>\n",
              "      <td>Uber</td>\n",
              "      <td>Minneapolis</td>\n",
              "      <td>Uber is changing the way the world moves. From...</td>\n",
              "      <td>NaN</td>\n",
              "    </tr>\n",
              "    <tr>\n",
              "      <th>10777</th>\n",
              "      <td>153206</td>\n",
              "      <td>Driving Partner @ Uber</td>\n",
              "      <td>Driving Partner</td>\n",
              "      <td>Uber</td>\n",
              "      <td>St. Paul</td>\n",
              "      <td>Uber is changing the way the world moves. From...</td>\n",
              "      <td>NaN</td>\n",
              "    </tr>\n",
              "  </tbody>\n",
              "</table>\n",
              "</div>"
            ],
            "text/plain": [
              "       Job.ID  ... Employment.Type\n",
              "10768  153197  ...             NaN\n",
              "10769  153198  ...             NaN\n",
              "10770  153199  ...             NaN\n",
              "10771  153200  ...             NaN\n",
              "10772  153201  ...             NaN\n",
              "10773  153202  ...             NaN\n",
              "10774  153203  ...             NaN\n",
              "10775  153204  ...             NaN\n",
              "10776  153205  ...             NaN\n",
              "10777  153206  ...             NaN\n",
              "\n",
              "[10 rows x 7 columns]"
            ]
          },
          "metadata": {
            "tags": []
          },
          "execution_count": 14
        }
      ]
    },
    {
      "cell_type": "markdown",
      "metadata": {
        "id": "2xiWQveUyLht",
        "colab_type": "text"
      },
      "source": [
        "Because it is Uber, it can be replaced with either Full/Part Time"
      ]
    },
    {
      "cell_type": "code",
      "metadata": {
        "id": "eYznF25uXndo",
        "colab_type": "code",
        "colab": {
          "base_uri": "https://localhost:8080/",
          "height": 252
        },
        "outputId": "c5ae9402-f85a-4449-a39a-4a736e5e0085"
      },
      "source": [
        "jobs_info['Employment.Type']=jobs_info['Employment.Type'].fillna('Full-Time/Part-Time')\n",
        "jobs_info.isna().sum()"
      ],
      "execution_count": 15,
      "outputs": [
        {
          "output_type": "stream",
          "text": [
            "/usr/local/lib/python3.6/dist-packages/ipykernel_launcher.py:1: SettingWithCopyWarning: \n",
            "A value is trying to be set on a copy of a slice from a DataFrame.\n",
            "Try using .loc[row_indexer,col_indexer] = value instead\n",
            "\n",
            "See the caveats in the documentation: https://pandas.pydata.org/pandas-docs/stable/user_guide/indexing.html#returning-a-view-versus-a-copy\n",
            "  \"\"\"Entry point for launching an IPython kernel.\n"
          ],
          "name": "stderr"
        },
        {
          "output_type": "execute_result",
          "data": {
            "text/plain": [
              "Job.ID                0\n",
              "Title                 0\n",
              "Position              0\n",
              "Company            2271\n",
              "City                  0\n",
              "Job.Description      56\n",
              "Employment.Type       0\n",
              "dtype: int64"
            ]
          },
          "metadata": {
            "tags": []
          },
          "execution_count": 15
        }
      ]
    },
    {
      "cell_type": "markdown",
      "metadata": {
        "id": "_K7koe_CyUP0",
        "colab_type": "text"
      },
      "source": [
        "Combining Title, Position, Company , City and Job Description into one column to form a training corpus"
      ]
    },
    {
      "cell_type": "code",
      "metadata": {
        "id": "klMOOLSFaeJ8",
        "colab_type": "code",
        "colab": {
          "base_uri": "https://localhost:8080/",
          "height": 397
        },
        "outputId": "89f36de9-86db-4ccb-b31d-a53360ab50a8"
      },
      "source": [
        "jobs_info['complete_description'] = jobs_info[jobs_info.columns[2:]].apply(lambda x:' '.join(x.dropna().astype(str)),axis=1)\n",
        "jobs_info.head()"
      ],
      "execution_count": 16,
      "outputs": [
        {
          "output_type": "stream",
          "text": [
            "/usr/local/lib/python3.6/dist-packages/ipykernel_launcher.py:1: SettingWithCopyWarning: \n",
            "A value is trying to be set on a copy of a slice from a DataFrame.\n",
            "Try using .loc[row_indexer,col_indexer] = value instead\n",
            "\n",
            "See the caveats in the documentation: https://pandas.pydata.org/pandas-docs/stable/user_guide/indexing.html#returning-a-view-versus-a-copy\n",
            "  \"\"\"Entry point for launching an IPython kernel.\n"
          ],
          "name": "stderr"
        },
        {
          "output_type": "execute_result",
          "data": {
            "text/html": [
              "<div>\n",
              "<style scoped>\n",
              "    .dataframe tbody tr th:only-of-type {\n",
              "        vertical-align: middle;\n",
              "    }\n",
              "\n",
              "    .dataframe tbody tr th {\n",
              "        vertical-align: top;\n",
              "    }\n",
              "\n",
              "    .dataframe thead th {\n",
              "        text-align: right;\n",
              "    }\n",
              "</style>\n",
              "<table border=\"1\" class=\"dataframe\">\n",
              "  <thead>\n",
              "    <tr style=\"text-align: right;\">\n",
              "      <th></th>\n",
              "      <th>Job.ID</th>\n",
              "      <th>Title</th>\n",
              "      <th>Position</th>\n",
              "      <th>Company</th>\n",
              "      <th>City</th>\n",
              "      <th>Job.Description</th>\n",
              "      <th>Employment.Type</th>\n",
              "      <th>complete_description</th>\n",
              "    </tr>\n",
              "  </thead>\n",
              "  <tbody>\n",
              "    <tr>\n",
              "      <th>0</th>\n",
              "      <td>111</td>\n",
              "      <td>Server @ Tacolicious</td>\n",
              "      <td>Server</td>\n",
              "      <td>Tacolicious</td>\n",
              "      <td>Palo Alto</td>\n",
              "      <td>Tacolicious' first Palo Alto store just opened...</td>\n",
              "      <td>Part-Time</td>\n",
              "      <td>Server Tacolicious Palo Alto Tacolicious' firs...</td>\n",
              "    </tr>\n",
              "    <tr>\n",
              "      <th>1</th>\n",
              "      <td>113</td>\n",
              "      <td>Kitchen Staff/Chef @ Claude Lane</td>\n",
              "      <td>Kitchen Staff/Chef</td>\n",
              "      <td>Claude Lane</td>\n",
              "      <td>San Francisco</td>\n",
              "      <td>\\r\\n\\r\\nNew French Brasserie in S.F. Financia...</td>\n",
              "      <td>Part-Time</td>\n",
              "      <td>Kitchen Staff/Chef Claude Lane San Francisco  ...</td>\n",
              "    </tr>\n",
              "    <tr>\n",
              "      <th>2</th>\n",
              "      <td>117</td>\n",
              "      <td>Bartender @ Machka Restaurants Corp.</td>\n",
              "      <td>Bartender</td>\n",
              "      <td>Machka Restaurants Corp.</td>\n",
              "      <td>San Francisco</td>\n",
              "      <td>We are a popular Mediterranean wine bar and re...</td>\n",
              "      <td>Part-Time</td>\n",
              "      <td>Bartender Machka Restaurants Corp. San Francis...</td>\n",
              "    </tr>\n",
              "    <tr>\n",
              "      <th>3</th>\n",
              "      <td>121</td>\n",
              "      <td>Server @ Teriyaki House</td>\n",
              "      <td>Server</td>\n",
              "      <td>Teriyaki House</td>\n",
              "      <td>Brisbane</td>\n",
              "      <td>● Serve food/drinks to customers in a profess...</td>\n",
              "      <td>Part-Time</td>\n",
              "      <td>Server Teriyaki House Brisbane  ● Serve food/d...</td>\n",
              "    </tr>\n",
              "    <tr>\n",
              "      <th>4</th>\n",
              "      <td>127</td>\n",
              "      <td>Kitchen Staff/Chef @ Rosa Mexicano - Sunset</td>\n",
              "      <td>Kitchen Staff/Chef</td>\n",
              "      <td>Rosa Mexicano - Sunset</td>\n",
              "      <td>Los Angeles</td>\n",
              "      <td>Located at the heart of Hollywood, we are one ...</td>\n",
              "      <td>Part-Time</td>\n",
              "      <td>Kitchen Staff/Chef Rosa Mexicano - Sunset Los ...</td>\n",
              "    </tr>\n",
              "  </tbody>\n",
              "</table>\n",
              "</div>"
            ],
            "text/plain": [
              "   Job.ID  ...                               complete_description\n",
              "0     111  ...  Server Tacolicious Palo Alto Tacolicious' firs...\n",
              "1     113  ...  Kitchen Staff/Chef Claude Lane San Francisco  ...\n",
              "2     117  ...  Bartender Machka Restaurants Corp. San Francis...\n",
              "3     121  ...  Server Teriyaki House Brisbane  ● Serve food/d...\n",
              "4     127  ...  Kitchen Staff/Chef Rosa Mexicano - Sunset Los ...\n",
              "\n",
              "[5 rows x 8 columns]"
            ]
          },
          "metadata": {
            "tags": []
          },
          "execution_count": 16
        }
      ]
    },
    {
      "cell_type": "markdown",
      "metadata": {
        "id": "SVxlLq93ymJD",
        "colab_type": "text"
      },
      "source": [
        "Text Pre-processing"
      ]
    },
    {
      "cell_type": "code",
      "metadata": {
        "id": "OsTlia2ZzI57",
        "colab_type": "code",
        "colab": {
          "base_uri": "https://localhost:8080/",
          "height": 50
        },
        "outputId": "b26a7ccf-342e-41c6-fcea-12e8915f0037"
      },
      "source": [
        "import re\n",
        "import nltk\n",
        "nltk.download('stopwords')\n",
        "from nltk.corpus import stopwords\n",
        "REPLACE_BY_SPACE_RE = re.compile('[/(){}\\[\\]\\|@,;]')\n",
        "BAD_SYMBOLS_RE = re.compile('[^0-9a-z #+_]')\n",
        "STOPWORDS = set(stopwords.words('english'))\n",
        "\n",
        "def text_prepare(text):\n",
        "    text=str(text)\n",
        "    text = text.lower()\n",
        "    text = re.sub(REPLACE_BY_SPACE_RE,' ',text)\n",
        "    text = re.sub(BAD_SYMBOLS_RE,' ',text)\n",
        "    text = ' '.join(filter(lambda x: x not in STOPWORDS,  text.split()))\n",
        "    return text"
      ],
      "execution_count": 17,
      "outputs": [
        {
          "output_type": "stream",
          "text": [
            "[nltk_data] Downloading package stopwords to /root/nltk_data...\n",
            "[nltk_data]   Unzipping corpora/stopwords.zip.\n"
          ],
          "name": "stdout"
        }
      ]
    },
    {
      "cell_type": "markdown",
      "metadata": {
        "id": "7YZc2XJyyr_e",
        "colab_type": "text"
      },
      "source": [
        "Applying text pre-processing to complete_description- training corpus formed"
      ]
    },
    {
      "cell_type": "code",
      "metadata": {
        "id": "MQRy-J_wzXUo",
        "colab_type": "code",
        "colab": {
          "base_uri": "https://localhost:8080/",
          "height": 397
        },
        "outputId": "89c87c93-df01-4a94-8fb9-a8f30cb57843"
      },
      "source": [
        "jobs_info['complete_description']=jobs_info['complete_description'].apply(text_prepare)\n",
        "jobs_info.head()"
      ],
      "execution_count": 18,
      "outputs": [
        {
          "output_type": "stream",
          "text": [
            "/usr/local/lib/python3.6/dist-packages/ipykernel_launcher.py:1: SettingWithCopyWarning: \n",
            "A value is trying to be set on a copy of a slice from a DataFrame.\n",
            "Try using .loc[row_indexer,col_indexer] = value instead\n",
            "\n",
            "See the caveats in the documentation: https://pandas.pydata.org/pandas-docs/stable/user_guide/indexing.html#returning-a-view-versus-a-copy\n",
            "  \"\"\"Entry point for launching an IPython kernel.\n"
          ],
          "name": "stderr"
        },
        {
          "output_type": "execute_result",
          "data": {
            "text/html": [
              "<div>\n",
              "<style scoped>\n",
              "    .dataframe tbody tr th:only-of-type {\n",
              "        vertical-align: middle;\n",
              "    }\n",
              "\n",
              "    .dataframe tbody tr th {\n",
              "        vertical-align: top;\n",
              "    }\n",
              "\n",
              "    .dataframe thead th {\n",
              "        text-align: right;\n",
              "    }\n",
              "</style>\n",
              "<table border=\"1\" class=\"dataframe\">\n",
              "  <thead>\n",
              "    <tr style=\"text-align: right;\">\n",
              "      <th></th>\n",
              "      <th>Job.ID</th>\n",
              "      <th>Title</th>\n",
              "      <th>Position</th>\n",
              "      <th>Company</th>\n",
              "      <th>City</th>\n",
              "      <th>Job.Description</th>\n",
              "      <th>Employment.Type</th>\n",
              "      <th>complete_description</th>\n",
              "    </tr>\n",
              "  </thead>\n",
              "  <tbody>\n",
              "    <tr>\n",
              "      <th>0</th>\n",
              "      <td>111</td>\n",
              "      <td>Server @ Tacolicious</td>\n",
              "      <td>Server</td>\n",
              "      <td>Tacolicious</td>\n",
              "      <td>Palo Alto</td>\n",
              "      <td>Tacolicious' first Palo Alto store just opened...</td>\n",
              "      <td>Part-Time</td>\n",
              "      <td>server tacolicious palo alto tacolicious first...</td>\n",
              "    </tr>\n",
              "    <tr>\n",
              "      <th>1</th>\n",
              "      <td>113</td>\n",
              "      <td>Kitchen Staff/Chef @ Claude Lane</td>\n",
              "      <td>Kitchen Staff/Chef</td>\n",
              "      <td>Claude Lane</td>\n",
              "      <td>San Francisco</td>\n",
              "      <td>\\r\\n\\r\\nNew French Brasserie in S.F. Financia...</td>\n",
              "      <td>Part-Time</td>\n",
              "      <td>kitchen staff chef claude lane san francisco n...</td>\n",
              "    </tr>\n",
              "    <tr>\n",
              "      <th>2</th>\n",
              "      <td>117</td>\n",
              "      <td>Bartender @ Machka Restaurants Corp.</td>\n",
              "      <td>Bartender</td>\n",
              "      <td>Machka Restaurants Corp.</td>\n",
              "      <td>San Francisco</td>\n",
              "      <td>We are a popular Mediterranean wine bar and re...</td>\n",
              "      <td>Part-Time</td>\n",
              "      <td>bartender machka restaurants corp san francisc...</td>\n",
              "    </tr>\n",
              "    <tr>\n",
              "      <th>3</th>\n",
              "      <td>121</td>\n",
              "      <td>Server @ Teriyaki House</td>\n",
              "      <td>Server</td>\n",
              "      <td>Teriyaki House</td>\n",
              "      <td>Brisbane</td>\n",
              "      <td>● Serve food/drinks to customers in a profess...</td>\n",
              "      <td>Part-Time</td>\n",
              "      <td>server teriyaki house brisbane serve food drin...</td>\n",
              "    </tr>\n",
              "    <tr>\n",
              "      <th>4</th>\n",
              "      <td>127</td>\n",
              "      <td>Kitchen Staff/Chef @ Rosa Mexicano - Sunset</td>\n",
              "      <td>Kitchen Staff/Chef</td>\n",
              "      <td>Rosa Mexicano - Sunset</td>\n",
              "      <td>Los Angeles</td>\n",
              "      <td>Located at the heart of Hollywood, we are one ...</td>\n",
              "      <td>Part-Time</td>\n",
              "      <td>kitchen staff chef rosa mexicano sunset los an...</td>\n",
              "    </tr>\n",
              "  </tbody>\n",
              "</table>\n",
              "</div>"
            ],
            "text/plain": [
              "   Job.ID  ...                               complete_description\n",
              "0     111  ...  server tacolicious palo alto tacolicious first...\n",
              "1     113  ...  kitchen staff chef claude lane san francisco n...\n",
              "2     117  ...  bartender machka restaurants corp san francisc...\n",
              "3     121  ...  server teriyaki house brisbane serve food drin...\n",
              "4     127  ...  kitchen staff chef rosa mexicano sunset los an...\n",
              "\n",
              "[5 rows x 8 columns]"
            ]
          },
          "metadata": {
            "tags": []
          },
          "execution_count": 18
        }
      ]
    },
    {
      "cell_type": "code",
      "metadata": {
        "id": "YynJ8PmQz2IF",
        "colab_type": "code",
        "colab": {
          "base_uri": "https://localhost:8080/",
          "height": 195
        },
        "outputId": "6ab4e636-9c9c-4aa4-f5fb-99778a48cd54"
      },
      "source": [
        "jobs_list=jobs_info[['Job.ID', 'Title', 'complete_description']]\n",
        "jobs_list.head()"
      ],
      "execution_count": 20,
      "outputs": [
        {
          "output_type": "execute_result",
          "data": {
            "text/html": [
              "<div>\n",
              "<style scoped>\n",
              "    .dataframe tbody tr th:only-of-type {\n",
              "        vertical-align: middle;\n",
              "    }\n",
              "\n",
              "    .dataframe tbody tr th {\n",
              "        vertical-align: top;\n",
              "    }\n",
              "\n",
              "    .dataframe thead th {\n",
              "        text-align: right;\n",
              "    }\n",
              "</style>\n",
              "<table border=\"1\" class=\"dataframe\">\n",
              "  <thead>\n",
              "    <tr style=\"text-align: right;\">\n",
              "      <th></th>\n",
              "      <th>Job.ID</th>\n",
              "      <th>Title</th>\n",
              "      <th>complete_description</th>\n",
              "    </tr>\n",
              "  </thead>\n",
              "  <tbody>\n",
              "    <tr>\n",
              "      <th>0</th>\n",
              "      <td>111</td>\n",
              "      <td>Server @ Tacolicious</td>\n",
              "      <td>server tacolicious palo alto tacolicious first...</td>\n",
              "    </tr>\n",
              "    <tr>\n",
              "      <th>1</th>\n",
              "      <td>113</td>\n",
              "      <td>Kitchen Staff/Chef @ Claude Lane</td>\n",
              "      <td>kitchen staff chef claude lane san francisco n...</td>\n",
              "    </tr>\n",
              "    <tr>\n",
              "      <th>2</th>\n",
              "      <td>117</td>\n",
              "      <td>Bartender @ Machka Restaurants Corp.</td>\n",
              "      <td>bartender machka restaurants corp san francisc...</td>\n",
              "    </tr>\n",
              "    <tr>\n",
              "      <th>3</th>\n",
              "      <td>121</td>\n",
              "      <td>Server @ Teriyaki House</td>\n",
              "      <td>server teriyaki house brisbane serve food drin...</td>\n",
              "    </tr>\n",
              "    <tr>\n",
              "      <th>4</th>\n",
              "      <td>127</td>\n",
              "      <td>Kitchen Staff/Chef @ Rosa Mexicano - Sunset</td>\n",
              "      <td>kitchen staff chef rosa mexicano sunset los an...</td>\n",
              "    </tr>\n",
              "  </tbody>\n",
              "</table>\n",
              "</div>"
            ],
            "text/plain": [
              "   Job.ID  ...                               complete_description\n",
              "0     111  ...  server tacolicious palo alto tacolicious first...\n",
              "1     113  ...  kitchen staff chef claude lane san francisco n...\n",
              "2     117  ...  bartender machka restaurants corp san francisc...\n",
              "3     121  ...  server teriyaki house brisbane serve food drin...\n",
              "4     127  ...  kitchen staff chef rosa mexicano sunset los an...\n",
              "\n",
              "[5 rows x 3 columns]"
            ]
          },
          "metadata": {
            "tags": []
          },
          "execution_count": 20
        }
      ]
    },
    {
      "cell_type": "markdown",
      "metadata": {
        "id": "GvGal8T-y5wQ",
        "colab_type": "text"
      },
      "source": [
        "Arranging the data into .tsv format accepted for training by the Starspace word embedding models"
      ]
    },
    {
      "cell_type": "code",
      "metadata": {
        "id": "2SinCvb7_SaD",
        "colab_type": "code",
        "colab": {}
      },
      "source": [
        "description=jobs_info['complete_description']\n",
        "description.to_csv('output.tsv', sep='\\t', index=False)"
      ],
      "execution_count": 21,
      "outputs": []
    },
    {
      "cell_type": "code",
      "metadata": {
        "id": "-9iMte2j_BEr",
        "colab_type": "code",
        "colab": {}
      },
      "source": [
        "list_jobs=[]\n",
        "for line in open('output.tsv'):\n",
        "  list_jobs.append(line)"
      ],
      "execution_count": 22,
      "outputs": []
    },
    {
      "cell_type": "code",
      "metadata": {
        "id": "w60zDEoHADOT",
        "colab_type": "code",
        "colab": {
          "base_uri": "https://localhost:8080/",
          "height": 35
        },
        "outputId": "c7fbbb94-6c8f-416b-a374-f05f4135c05c"
      },
      "source": [
        "list_jobs[0]"
      ],
      "execution_count": null,
      "outputs": [
        {
          "output_type": "execute_result",
          "data": {
            "application/vnd.google.colaboratory.intrinsic": {
              "type": "string"
            },
            "text/plain": [
              "'complete_description\\n'"
            ]
          },
          "metadata": {
            "tags": []
          },
          "execution_count": 23
        }
      ]
    },
    {
      "cell_type": "code",
      "metadata": {
        "id": "FuszMraa64QE",
        "colab_type": "code",
        "colab": {}
      },
      "source": [
        "import csv\n",
        "with open('output1.tsv', 'w', newline='') as f_output:\n",
        "    tsv_output = csv.writer(f_output, delimiter='\\t')\n",
        "    tsv_output.writerow(list_jobs[1:]) #ignoring the first line complete_description\n"
      ],
      "execution_count": 24,
      "outputs": []
    },
    {
      "cell_type": "markdown",
      "metadata": {
        "id": "RxDKU9FV1zRu",
        "colab_type": "text"
      },
      "source": [
        "Training Job Corpus Data on .tsv file. The starspace embeddings- word embeddings are trained on mode 3 as here task is of sentence/document similarity- hence we get similar listings together. \n",
        "\n",
        "Dimensions- of embeddings trained- 100\n",
        "\n",
        "Similarity of Sentence explored by model to be trained- cosine similarity\n",
        "\n",
        "optimizer-adagrad\n",
        "\n",
        "Learning Rate-0.01\n"
      ]
    },
    {
      "cell_type": "code",
      "metadata": {
        "id": "ubQZSQYjDR-G",
        "colab_type": "code",
        "colab": {
          "base_uri": "https://localhost:8080/",
          "height": 1000
        },
        "outputId": "1da82a6c-3e30-4a76-8b69-37b9bab92a2d"
      },
      "source": [
        "!starspace train -trainFile \"output1.tsv\" -model starspace_embedding_jobs \\\n",
        "-trainMode 3 -adagrad true -ngrams 1 -epoch 10 -dim 100 -similarity cosine -minCount 2 \\\n",
        "-verbose true -fileFormat labelDoc -negSearchLimit 10 -lr 0.01"
      ],
      "execution_count": null,
      "outputs": [
        {
          "output_type": "stream",
          "text": [
            "Arguments: \n",
            "lr: 0.01\n",
            "dim: 100\n",
            "epoch: 10\n",
            "maxTrainTime: 8640000\n",
            "validationPatience: 10\n",
            "saveEveryEpoch: 0\n",
            "loss: hinge\n",
            "margin: 0.05\n",
            "similarity: cosine\n",
            "maxNegSamples: 10\n",
            "negSearchLimit: 10\n",
            "batchSize: 5\n",
            "thread: 10\n",
            "minCount: 2\n",
            "minCountLabel: 1\n",
            "label: __label__\n",
            "label: __label__\n",
            "ngrams: 1\n",
            "bucket: 2000000\n",
            "adagrad: 1\n",
            "trainMode: 3\n",
            "fileFormat: labelDoc\n",
            "normalizeText: 0\n",
            "dropoutLHS: 0\n",
            "dropoutRHS: 0\n",
            "useWeight: 0\n",
            "weightSep: :\n",
            "Start to initialize starspace model.\n",
            "Build dict from input file : output1.tsv\n",
            "Read 13M words\n",
            "Number of words in dictionary:  45735\n",
            "Number of labels in dictionary: 0\n",
            "Loading data from file : output1.tsv\n",
            "Total number of examples loaded : 84089\n",
            "Initialized model weights. Model size :\n",
            "matrix : 45735 100\n",
            "Training epoch 0: 0.01 0.001\n",
            "Epoch: 100.0%  lr: 0.009000  loss: 0.207160  eta: 0h58m  tot: 0h6m30s  (10.0%)\n",
            " ---+++                Epoch    0 Train error : 0.20735569 +++--- ☃\n",
            "Training epoch 1: 0.009 0.001\n",
            "Epoch: 100.0%  lr: 0.008000  loss: 0.190011  eta: 0h55m  tot: 0h13m24s  (20.0%)\n",
            " ---+++                Epoch    1 Train error : 0.19039358 +++--- ☃\n",
            "Training epoch 2: 0.008 0.001\n",
            "Epoch: 100.0%  lr: 0.007012  loss: 0.189303  eta: 0h48m  tot: 0h20m17s  (30.0%)\n",
            " ---+++                Epoch    2 Train error : 0.18913224 +++--- ☃\n",
            "Training epoch 3: 0.007 0.001\n",
            "Epoch: 100.0%  lr: 0.006012  loss: 0.190736  eta: 0h41m  tot: 0h27m17s  (40.0%)\n",
            " ---+++                Epoch    3 Train error : 0.18948650 +++--- ☃\n",
            "Training epoch 4: 0.006 0.001\n",
            "Epoch: 100.0%  lr: 0.005000  loss: 0.188501  eta: 0h34m  tot: 0h34m10s  (50.0%)\n",
            " ---+++                Epoch    4 Train error : 0.18864508 +++--- ☃\n",
            "Training epoch 5: 0.005 0.001\n",
            "Epoch: 100.0%  lr: 0.004000  loss: 0.184467  eta: 0h27m  tot: 0h41m4s  (60.0%)\n",
            " ---+++                Epoch    5 Train error : 0.18740164 +++--- ☃\n",
            "Training epoch 6: 0.004 0.001\n",
            "Epoch: 100.0%  lr: 0.003000  loss: 0.190185  eta: 0h21m  tot: 0h48m13s  (70.0%)\n",
            " ---+++                Epoch    6 Train error : 0.18918073 +++--- ☃\n",
            "Training epoch 7: 0.003 0.001\n",
            "Epoch: 100.0%  lr: 0.002000  loss: 0.188669  eta: 0h13m  tot: 0h55m8s  (80.0%)\n",
            " ---+++                Epoch    7 Train error : 0.18783917 +++--- ☃\n",
            "Training epoch 8: 0.002 0.001\n",
            "Epoch: 100.0%  lr: 0.001000  loss: 0.186877  eta: 0h6m  tot: 1h2m13s  (90.0%)\n",
            " ---+++                Epoch    8 Train error : 0.18783861 +++--- ☃\n",
            "Training epoch 9: 0.000999999 0.001\n",
            "Epoch: 100.0%  lr: -0.000000  loss: 0.188564  eta: <1min   tot: 1h9m4s  (100.0%)\n",
            " ---+++                Epoch    9 Train error : 0.18852510 +++--- ☃\n",
            "Saving model to file : starspace_embedding_jobs\n",
            "Saving model in tsv format : starspace_embedding_jobs.tsv\n"
          ],
          "name": "stdout"
        }
      ]
    },
    {
      "cell_type": "code",
      "metadata": {
        "id": "8aJippTAPTMN",
        "colab_type": "code",
        "colab": {
          "base_uri": "https://localhost:8080/",
          "height": 585
        },
        "outputId": "2cad348d-f4e6-4d0d-e1be-d84009b1b961"
      },
      "source": [
        "job_views.head() #Jobs viewed by the Applicants"
      ],
      "execution_count": 27,
      "outputs": [
        {
          "output_type": "execute_result",
          "data": {
            "text/html": [
              "<div>\n",
              "<style scoped>\n",
              "    .dataframe tbody tr th:only-of-type {\n",
              "        vertical-align: middle;\n",
              "    }\n",
              "\n",
              "    .dataframe tbody tr th {\n",
              "        vertical-align: top;\n",
              "    }\n",
              "\n",
              "    .dataframe thead th {\n",
              "        text-align: right;\n",
              "    }\n",
              "</style>\n",
              "<table border=\"1\" class=\"dataframe\">\n",
              "  <thead>\n",
              "    <tr style=\"text-align: right;\">\n",
              "      <th></th>\n",
              "      <th>Applicant.ID</th>\n",
              "      <th>Job.ID</th>\n",
              "      <th>Title</th>\n",
              "      <th>Position</th>\n",
              "      <th>Company</th>\n",
              "      <th>City</th>\n",
              "      <th>State.Name</th>\n",
              "      <th>State.Code</th>\n",
              "      <th>Industry</th>\n",
              "      <th>View.Start</th>\n",
              "      <th>View.End</th>\n",
              "      <th>View.Duration</th>\n",
              "      <th>Created.At</th>\n",
              "      <th>Updated.At</th>\n",
              "    </tr>\n",
              "  </thead>\n",
              "  <tbody>\n",
              "    <tr>\n",
              "      <th>0</th>\n",
              "      <td>10000</td>\n",
              "      <td>73666</td>\n",
              "      <td>Cashiers &amp; Valets Needed! @ WallyPark</td>\n",
              "      <td>Cashiers &amp; Valets Needed!</td>\n",
              "      <td>WallyPark</td>\n",
              "      <td>Newark</td>\n",
              "      <td>New Jersey</td>\n",
              "      <td>NJ</td>\n",
              "      <td>NaN</td>\n",
              "      <td>2014-12-12 20:12:35 UTC</td>\n",
              "      <td>2014-12-12 20:31:24 UTC</td>\n",
              "      <td>1129.0</td>\n",
              "      <td>2014-12-12 20:12:35 UTC</td>\n",
              "      <td>2014-12-12 20:12:35 UTC</td>\n",
              "    </tr>\n",
              "    <tr>\n",
              "      <th>1</th>\n",
              "      <td>10000</td>\n",
              "      <td>96655</td>\n",
              "      <td>Macy's Seasonal Retail Fragrance Cashier  - Ga...</td>\n",
              "      <td>Macy's Seasonal Retail Fragrance Cashier  - Ga...</td>\n",
              "      <td>Macy's</td>\n",
              "      <td>Garden City</td>\n",
              "      <td>New York</td>\n",
              "      <td>NY</td>\n",
              "      <td>NaN</td>\n",
              "      <td>2014-12-12 20:08:50 UTC</td>\n",
              "      <td>2014-12-12 20:10:15 UTC</td>\n",
              "      <td>84.0</td>\n",
              "      <td>2014-12-12 20:08:50 UTC</td>\n",
              "      <td>2014-12-12 20:08:50 UTC</td>\n",
              "    </tr>\n",
              "    <tr>\n",
              "      <th>2</th>\n",
              "      <td>10001</td>\n",
              "      <td>84141</td>\n",
              "      <td>Part Time Showroom Sales / Cashier @ Grizzly I...</td>\n",
              "      <td>Part Time Showroom Sales / Cashier</td>\n",
              "      <td>Grizzly Industrial Inc.</td>\n",
              "      <td>Bellingham</td>\n",
              "      <td>Washington</td>\n",
              "      <td>WA</td>\n",
              "      <td>NaN</td>\n",
              "      <td>2014-12-12 20:12:32 UTC</td>\n",
              "      <td>2014-12-12 20:17:18 UTC</td>\n",
              "      <td>286.0</td>\n",
              "      <td>2014-12-12 20:12:32 UTC</td>\n",
              "      <td>2014-12-12 20:12:32 UTC</td>\n",
              "    </tr>\n",
              "    <tr>\n",
              "      <th>3</th>\n",
              "      <td>10002</td>\n",
              "      <td>77989</td>\n",
              "      <td>Event Specialist Part Time @ Advantage Sales &amp;...</td>\n",
              "      <td>Event Specialist Part Time</td>\n",
              "      <td>Advantage Sales &amp; Marketing</td>\n",
              "      <td>Simpsonville</td>\n",
              "      <td>South Carolina</td>\n",
              "      <td>SC</td>\n",
              "      <td>NaN</td>\n",
              "      <td>2014-12-12 20:39:23 UTC</td>\n",
              "      <td>2014-12-12 20:42:13 UTC</td>\n",
              "      <td>170.0</td>\n",
              "      <td>2014-12-12 20:39:23 UTC</td>\n",
              "      <td>2014-12-12 20:39:23 UTC</td>\n",
              "    </tr>\n",
              "    <tr>\n",
              "      <th>4</th>\n",
              "      <td>10002</td>\n",
              "      <td>69568</td>\n",
              "      <td>Bonefish - Kitchen Staff @ Bonefish Grill</td>\n",
              "      <td>Bonefish - Kitchen Staff</td>\n",
              "      <td>Bonefish Grill</td>\n",
              "      <td>Greenville</td>\n",
              "      <td>South Carolina</td>\n",
              "      <td>SC</td>\n",
              "      <td>NaN</td>\n",
              "      <td>2014-12-12 20:43:25 UTC</td>\n",
              "      <td>2014-12-12 20:43:58 UTC</td>\n",
              "      <td>33.0</td>\n",
              "      <td>2014-12-12 20:43:25 UTC</td>\n",
              "      <td>2014-12-12 20:43:25 UTC</td>\n",
              "    </tr>\n",
              "  </tbody>\n",
              "</table>\n",
              "</div>"
            ],
            "text/plain": [
              "   Applicant.ID  Job.ID  ...               Created.At               Updated.At\n",
              "0         10000   73666  ...  2014-12-12 20:12:35 UTC  2014-12-12 20:12:35 UTC\n",
              "1         10000   96655  ...  2014-12-12 20:08:50 UTC  2014-12-12 20:08:50 UTC\n",
              "2         10001   84141  ...  2014-12-12 20:12:32 UTC  2014-12-12 20:12:32 UTC\n",
              "3         10002   77989  ...  2014-12-12 20:39:23 UTC  2014-12-12 20:39:23 UTC\n",
              "4         10002   69568  ...  2014-12-12 20:43:25 UTC  2014-12-12 20:43:25 UTC\n",
              "\n",
              "[5 rows x 14 columns]"
            ]
          },
          "metadata": {
            "tags": []
          },
          "execution_count": 27
        }
      ]
    },
    {
      "cell_type": "code",
      "metadata": {
        "id": "8-AvArsj0_Pe",
        "colab_type": "code",
        "colab": {
          "base_uri": "https://localhost:8080/",
          "height": 34
        },
        "outputId": "0f67a354-af41-4292-a998-6f871507258d"
      },
      "source": [
        "job_views.columns[3:6]"
      ],
      "execution_count": null,
      "outputs": [
        {
          "output_type": "execute_result",
          "data": {
            "text/plain": [
              "Index(['Position', 'Company', 'City'], dtype='object')"
            ]
          },
          "metadata": {
            "tags": []
          },
          "execution_count": 24
        }
      ]
    },
    {
      "cell_type": "markdown",
      "metadata": {
        "id": "38LI88MAzcTO",
        "colab_type": "text"
      },
      "source": [
        "Forming the corpus of data of  Job views applicants wise.\n",
        "This data will be used for further making recommendations"
      ]
    },
    {
      "cell_type": "code",
      "metadata": {
        "id": "Gr3OY0c70eem",
        "colab_type": "code",
        "colab": {
          "base_uri": "https://localhost:8080/",
          "height": 397
        },
        "outputId": "8ed024c1-ed6f-42ed-b575-bc4df0790753"
      },
      "source": [
        "job_views_description=job_views[['Applicant.ID']]\n",
        "job_views_description['complete_description']=job_views[job_views.columns[3:6]].apply(lambda x: ' '.join(x.dropna().astype(str)),axis=1)\n",
        "job_views_description['complete_description']=job_views_description['complete_description'].apply(text_prepare) #pre-processing the text\n",
        "job_views_description.head()"
      ],
      "execution_count": 28,
      "outputs": [
        {
          "output_type": "stream",
          "text": [
            "/usr/local/lib/python3.6/dist-packages/ipykernel_launcher.py:2: SettingWithCopyWarning: \n",
            "A value is trying to be set on a copy of a slice from a DataFrame.\n",
            "Try using .loc[row_indexer,col_indexer] = value instead\n",
            "\n",
            "See the caveats in the documentation: https://pandas.pydata.org/pandas-docs/stable/user_guide/indexing.html#returning-a-view-versus-a-copy\n",
            "  \n",
            "/usr/local/lib/python3.6/dist-packages/ipykernel_launcher.py:3: SettingWithCopyWarning: \n",
            "A value is trying to be set on a copy of a slice from a DataFrame.\n",
            "Try using .loc[row_indexer,col_indexer] = value instead\n",
            "\n",
            "See the caveats in the documentation: https://pandas.pydata.org/pandas-docs/stable/user_guide/indexing.html#returning-a-view-versus-a-copy\n",
            "  This is separate from the ipykernel package so we can avoid doing imports until\n"
          ],
          "name": "stderr"
        },
        {
          "output_type": "execute_result",
          "data": {
            "text/html": [
              "<div>\n",
              "<style scoped>\n",
              "    .dataframe tbody tr th:only-of-type {\n",
              "        vertical-align: middle;\n",
              "    }\n",
              "\n",
              "    .dataframe tbody tr th {\n",
              "        vertical-align: top;\n",
              "    }\n",
              "\n",
              "    .dataframe thead th {\n",
              "        text-align: right;\n",
              "    }\n",
              "</style>\n",
              "<table border=\"1\" class=\"dataframe\">\n",
              "  <thead>\n",
              "    <tr style=\"text-align: right;\">\n",
              "      <th></th>\n",
              "      <th>Applicant.ID</th>\n",
              "      <th>complete_description</th>\n",
              "    </tr>\n",
              "  </thead>\n",
              "  <tbody>\n",
              "    <tr>\n",
              "      <th>0</th>\n",
              "      <td>10000</td>\n",
              "      <td>cashiers valets needed wallypark newark</td>\n",
              "    </tr>\n",
              "    <tr>\n",
              "      <th>1</th>\n",
              "      <td>10000</td>\n",
              "      <td>macy seasonal retail fragrance cashier garden ...</td>\n",
              "    </tr>\n",
              "    <tr>\n",
              "      <th>2</th>\n",
              "      <td>10001</td>\n",
              "      <td>part time showroom sales cashier grizzly indus...</td>\n",
              "    </tr>\n",
              "    <tr>\n",
              "      <th>3</th>\n",
              "      <td>10002</td>\n",
              "      <td>event specialist part time advantage sales mar...</td>\n",
              "    </tr>\n",
              "    <tr>\n",
              "      <th>4</th>\n",
              "      <td>10002</td>\n",
              "      <td>bonefish kitchen staff bonefish grill greenville</td>\n",
              "    </tr>\n",
              "  </tbody>\n",
              "</table>\n",
              "</div>"
            ],
            "text/plain": [
              "   Applicant.ID                               complete_description\n",
              "0         10000            cashiers valets needed wallypark newark\n",
              "1         10000  macy seasonal retail fragrance cashier garden ...\n",
              "2         10001  part time showroom sales cashier grizzly indus...\n",
              "3         10002  event specialist part time advantage sales mar...\n",
              "4         10002   bonefish kitchen staff bonefish grill greenville"
            ]
          },
          "metadata": {
            "tags": []
          },
          "execution_count": 28
        }
      ]
    },
    {
      "cell_type": "markdown",
      "metadata": {
        "id": "3uwj2RT2zvGw",
        "colab_type": "text"
      },
      "source": [
        "One applicant may have viewed more than one job listings. Compiling them in one complete_description"
      ]
    },
    {
      "cell_type": "code",
      "metadata": {
        "id": "XKJGjJGkUhEQ",
        "colab_type": "code",
        "colab": {}
      },
      "source": [
        "job_views_description = job_views_description.groupby('Applicant.ID', sort=False)['complete_description'].apply(' '.join).reset_index()"
      ],
      "execution_count": 66,
      "outputs": []
    },
    {
      "cell_type": "code",
      "metadata": {
        "id": "fx8_5VbTUzxb",
        "colab_type": "code",
        "colab": {
          "base_uri": "https://localhost:8080/",
          "height": 195
        },
        "outputId": "3a70666a-99a8-4670-d5ad-0d91bf83e485"
      },
      "source": [
        "job_views_description.head()"
      ],
      "execution_count": 68,
      "outputs": [
        {
          "output_type": "execute_result",
          "data": {
            "text/html": [
              "<div>\n",
              "<style scoped>\n",
              "    .dataframe tbody tr th:only-of-type {\n",
              "        vertical-align: middle;\n",
              "    }\n",
              "\n",
              "    .dataframe tbody tr th {\n",
              "        vertical-align: top;\n",
              "    }\n",
              "\n",
              "    .dataframe thead th {\n",
              "        text-align: right;\n",
              "    }\n",
              "</style>\n",
              "<table border=\"1\" class=\"dataframe\">\n",
              "  <thead>\n",
              "    <tr style=\"text-align: right;\">\n",
              "      <th></th>\n",
              "      <th>Applicant.ID</th>\n",
              "      <th>complete_description</th>\n",
              "    </tr>\n",
              "  </thead>\n",
              "  <tbody>\n",
              "    <tr>\n",
              "      <th>0</th>\n",
              "      <td>10000</td>\n",
              "      <td>cashiers valets needed wallypark newark macy s...</td>\n",
              "    </tr>\n",
              "    <tr>\n",
              "      <th>1</th>\n",
              "      <td>10001</td>\n",
              "      <td>part time showroom sales cashier grizzly indus...</td>\n",
              "    </tr>\n",
              "    <tr>\n",
              "      <th>2</th>\n",
              "      <td>10002</td>\n",
              "      <td>event specialist part time advantage sales mar...</td>\n",
              "    </tr>\n",
              "    <tr>\n",
              "      <th>3</th>\n",
              "      <td>10003</td>\n",
              "      <td>entry level security officer securitas securit...</td>\n",
              "    </tr>\n",
              "    <tr>\n",
              "      <th>4</th>\n",
              "      <td>10004</td>\n",
              "      <td>pt teller chester east 36th cleveland keybank ...</td>\n",
              "    </tr>\n",
              "  </tbody>\n",
              "</table>\n",
              "</div>"
            ],
            "text/plain": [
              "   Applicant.ID                               complete_description\n",
              "0         10000  cashiers valets needed wallypark newark macy s...\n",
              "1         10001  part time showroom sales cashier grizzly indus...\n",
              "2         10002  event specialist part time advantage sales mar...\n",
              "3         10003  entry level security officer securitas securit...\n",
              "4         10004  pt teller chester east 36th cleveland keybank ..."
            ]
          },
          "metadata": {
            "tags": []
          },
          "execution_count": 68
        }
      ]
    },
    {
      "cell_type": "code",
      "metadata": {
        "id": "ar5k_QYVPagb",
        "colab_type": "code",
        "colab": {
          "base_uri": "https://localhost:8080/",
          "height": 467
        },
        "outputId": "26a94515-d709-4a45-ff21-e68d61c1aa7f"
      },
      "source": [
        "experience.head() #experience database of each applicant"
      ],
      "execution_count": 29,
      "outputs": [
        {
          "output_type": "execute_result",
          "data": {
            "text/html": [
              "<div>\n",
              "<style scoped>\n",
              "    .dataframe tbody tr th:only-of-type {\n",
              "        vertical-align: middle;\n",
              "    }\n",
              "\n",
              "    .dataframe tbody tr th {\n",
              "        vertical-align: top;\n",
              "    }\n",
              "\n",
              "    .dataframe thead th {\n",
              "        text-align: right;\n",
              "    }\n",
              "</style>\n",
              "<table border=\"1\" class=\"dataframe\">\n",
              "  <thead>\n",
              "    <tr style=\"text-align: right;\">\n",
              "      <th></th>\n",
              "      <th>Applicant.ID</th>\n",
              "      <th>Position.Name</th>\n",
              "      <th>Employer.Name</th>\n",
              "      <th>City</th>\n",
              "      <th>State.Name</th>\n",
              "      <th>State.Code</th>\n",
              "      <th>Start.Date</th>\n",
              "      <th>End.Date</th>\n",
              "      <th>Job.Description</th>\n",
              "      <th>Salary</th>\n",
              "      <th>Can.Contact.Employer</th>\n",
              "      <th>Created.At</th>\n",
              "      <th>Updated.At</th>\n",
              "    </tr>\n",
              "  </thead>\n",
              "  <tbody>\n",
              "    <tr>\n",
              "      <th>0</th>\n",
              "      <td>10001</td>\n",
              "      <td>Account Manager / Sales Administration / Quali...</td>\n",
              "      <td>Barcode Resourcing</td>\n",
              "      <td>Bellingham</td>\n",
              "      <td>Washington</td>\n",
              "      <td>WA</td>\n",
              "      <td>2012-10-15</td>\n",
              "      <td>NaN</td>\n",
              "      <td>NaN</td>\n",
              "      <td>NaN</td>\n",
              "      <td>NaN</td>\n",
              "      <td>2014-12-12 20:10:02 UTC</td>\n",
              "      <td>2014-12-12 20:10:02 UTC</td>\n",
              "    </tr>\n",
              "    <tr>\n",
              "      <th>1</th>\n",
              "      <td>10001</td>\n",
              "      <td>Electronics Technician / Item Master Controller</td>\n",
              "      <td>Ryzex Group</td>\n",
              "      <td>Bellingham</td>\n",
              "      <td>Washington</td>\n",
              "      <td>WA</td>\n",
              "      <td>2001-12-01</td>\n",
              "      <td>2012-04-01</td>\n",
              "      <td>NaN</td>\n",
              "      <td>NaN</td>\n",
              "      <td>NaN</td>\n",
              "      <td>2014-12-12 20:10:02 UTC</td>\n",
              "      <td>2014-12-12 20:10:02 UTC</td>\n",
              "    </tr>\n",
              "    <tr>\n",
              "      <th>2</th>\n",
              "      <td>10001</td>\n",
              "      <td>Machine Operator</td>\n",
              "      <td>comptec inc</td>\n",
              "      <td>Custer</td>\n",
              "      <td>Washington</td>\n",
              "      <td>WA</td>\n",
              "      <td>1997-01-01</td>\n",
              "      <td>1999-01-01</td>\n",
              "      <td>NaN</td>\n",
              "      <td>NaN</td>\n",
              "      <td>NaN</td>\n",
              "      <td>2014-12-12 20:10:02 UTC</td>\n",
              "      <td>2014-12-12 20:10:02 UTC</td>\n",
              "    </tr>\n",
              "    <tr>\n",
              "      <th>3</th>\n",
              "      <td>10003</td>\n",
              "      <td>maintenance technician</td>\n",
              "      <td>Winn residental</td>\n",
              "      <td>washington</td>\n",
              "      <td>District of Columbia</td>\n",
              "      <td>DC</td>\n",
              "      <td>NaN</td>\n",
              "      <td>NaN</td>\n",
              "      <td>Necessary maintenance for \"Make Ready\" Plumbin...</td>\n",
              "      <td>10.0</td>\n",
              "      <td>False</td>\n",
              "      <td>2014-12-12 21:27:05 UTC</td>\n",
              "      <td>2014-12-12 21:27:05 UTC</td>\n",
              "    </tr>\n",
              "    <tr>\n",
              "      <th>4</th>\n",
              "      <td>10003</td>\n",
              "      <td>Electrical Helper</td>\n",
              "      <td>michael and son services</td>\n",
              "      <td>alexandria</td>\n",
              "      <td>Virginia</td>\n",
              "      <td>VA</td>\n",
              "      <td>NaN</td>\n",
              "      <td>NaN</td>\n",
              "      <td>repair and services of electrical construction</td>\n",
              "      <td>NaN</td>\n",
              "      <td>False</td>\n",
              "      <td>2014-12-12 21:27:05 UTC</td>\n",
              "      <td>2014-12-12 21:27:05 UTC</td>\n",
              "    </tr>\n",
              "  </tbody>\n",
              "</table>\n",
              "</div>"
            ],
            "text/plain": [
              "   Applicant.ID  ...               Updated.At\n",
              "0         10001  ...  2014-12-12 20:10:02 UTC\n",
              "1         10001  ...  2014-12-12 20:10:02 UTC\n",
              "2         10001  ...  2014-12-12 20:10:02 UTC\n",
              "3         10003  ...  2014-12-12 21:27:05 UTC\n",
              "4         10003  ...  2014-12-12 21:27:05 UTC\n",
              "\n",
              "[5 rows x 13 columns]"
            ]
          },
          "metadata": {
            "tags": []
          },
          "execution_count": 29
        }
      ]
    },
    {
      "cell_type": "markdown",
      "metadata": {
        "id": "_hopK0Kb0FVa",
        "colab_type": "text"
      },
      "source": [
        "Preparing the corpus of applicant experience to be later used in recommendations"
      ]
    },
    {
      "cell_type": "code",
      "metadata": {
        "id": "j2PUCRxv1yjI",
        "colab_type": "code",
        "colab": {
          "base_uri": "https://localhost:8080/",
          "height": 296
        },
        "outputId": "156b53f1-ba2c-4fcf-a2c5-16a64748b161"
      },
      "source": [
        "experience_list=experience[['Applicant.ID', 'Position.Name']]\n",
        "experience_list['Position.Name']=experience_list['Position.Name'].apply(text_prepare)\n",
        "experience_list.head()"
      ],
      "execution_count": 30,
      "outputs": [
        {
          "output_type": "stream",
          "text": [
            "/usr/local/lib/python3.6/dist-packages/ipykernel_launcher.py:2: SettingWithCopyWarning: \n",
            "A value is trying to be set on a copy of a slice from a DataFrame.\n",
            "Try using .loc[row_indexer,col_indexer] = value instead\n",
            "\n",
            "See the caveats in the documentation: https://pandas.pydata.org/pandas-docs/stable/user_guide/indexing.html#returning-a-view-versus-a-copy\n",
            "  \n"
          ],
          "name": "stderr"
        },
        {
          "output_type": "execute_result",
          "data": {
            "text/html": [
              "<div>\n",
              "<style scoped>\n",
              "    .dataframe tbody tr th:only-of-type {\n",
              "        vertical-align: middle;\n",
              "    }\n",
              "\n",
              "    .dataframe tbody tr th {\n",
              "        vertical-align: top;\n",
              "    }\n",
              "\n",
              "    .dataframe thead th {\n",
              "        text-align: right;\n",
              "    }\n",
              "</style>\n",
              "<table border=\"1\" class=\"dataframe\">\n",
              "  <thead>\n",
              "    <tr style=\"text-align: right;\">\n",
              "      <th></th>\n",
              "      <th>Applicant.ID</th>\n",
              "      <th>Position.Name</th>\n",
              "    </tr>\n",
              "  </thead>\n",
              "  <tbody>\n",
              "    <tr>\n",
              "      <th>0</th>\n",
              "      <td>10001</td>\n",
              "      <td>account manager sales administration quality a...</td>\n",
              "    </tr>\n",
              "    <tr>\n",
              "      <th>1</th>\n",
              "      <td>10001</td>\n",
              "      <td>electronics technician item master controller</td>\n",
              "    </tr>\n",
              "    <tr>\n",
              "      <th>2</th>\n",
              "      <td>10001</td>\n",
              "      <td>machine operator</td>\n",
              "    </tr>\n",
              "    <tr>\n",
              "      <th>3</th>\n",
              "      <td>10003</td>\n",
              "      <td>maintenance technician</td>\n",
              "    </tr>\n",
              "    <tr>\n",
              "      <th>4</th>\n",
              "      <td>10003</td>\n",
              "      <td>electrical helper</td>\n",
              "    </tr>\n",
              "  </tbody>\n",
              "</table>\n",
              "</div>"
            ],
            "text/plain": [
              "   Applicant.ID                                      Position.Name\n",
              "0         10001  account manager sales administration quality a...\n",
              "1         10001      electronics technician item master controller\n",
              "2         10001                                   machine operator\n",
              "3         10003                             maintenance technician\n",
              "4         10003                                  electrical helper"
            ]
          },
          "metadata": {
            "tags": []
          },
          "execution_count": 30
        }
      ]
    },
    {
      "cell_type": "markdown",
      "metadata": {
        "id": "W6IlSW2R0T3o",
        "colab_type": "text"
      },
      "source": [
        "Combining all position held previously by applicant in the Position.Name (incase applicant  has listed more than one Position in experience)"
      ]
    },
    {
      "cell_type": "code",
      "metadata": {
        "id": "hlHd-V6n3C7H",
        "colab_type": "code",
        "colab": {
          "base_uri": "https://localhost:8080/",
          "height": 195
        },
        "outputId": "151c24c5-7be0-4aea-a51a-83a9f412864e"
      },
      "source": [
        "experience_list = experience_list.groupby('Applicant.ID', sort=False)['Position.Name'].apply(' '.join).reset_index()\n",
        "experience_list.head()"
      ],
      "execution_count": 31,
      "outputs": [
        {
          "output_type": "execute_result",
          "data": {
            "text/html": [
              "<div>\n",
              "<style scoped>\n",
              "    .dataframe tbody tr th:only-of-type {\n",
              "        vertical-align: middle;\n",
              "    }\n",
              "\n",
              "    .dataframe tbody tr th {\n",
              "        vertical-align: top;\n",
              "    }\n",
              "\n",
              "    .dataframe thead th {\n",
              "        text-align: right;\n",
              "    }\n",
              "</style>\n",
              "<table border=\"1\" class=\"dataframe\">\n",
              "  <thead>\n",
              "    <tr style=\"text-align: right;\">\n",
              "      <th></th>\n",
              "      <th>Applicant.ID</th>\n",
              "      <th>Position.Name</th>\n",
              "    </tr>\n",
              "  </thead>\n",
              "  <tbody>\n",
              "    <tr>\n",
              "      <th>0</th>\n",
              "      <td>10001</td>\n",
              "      <td>account manager sales administration quality a...</td>\n",
              "    </tr>\n",
              "    <tr>\n",
              "      <th>1</th>\n",
              "      <td>10003</td>\n",
              "      <td>maintenance technician electrical helper techn...</td>\n",
              "    </tr>\n",
              "    <tr>\n",
              "      <th>2</th>\n",
              "      <td>10004</td>\n",
              "      <td>nan nan shift superviveur</td>\n",
              "    </tr>\n",
              "    <tr>\n",
              "      <th>3</th>\n",
              "      <td>10005</td>\n",
              "      <td>star houseman</td>\n",
              "    </tr>\n",
              "    <tr>\n",
              "      <th>4</th>\n",
              "      <td>10007</td>\n",
              "      <td>bartender bar manager head bartender bartender</td>\n",
              "    </tr>\n",
              "  </tbody>\n",
              "</table>\n",
              "</div>"
            ],
            "text/plain": [
              "   Applicant.ID                                      Position.Name\n",
              "0         10001  account manager sales administration quality a...\n",
              "1         10003  maintenance technician electrical helper techn...\n",
              "2         10004                          nan nan shift superviveur\n",
              "3         10005                                      star houseman\n",
              "4         10007     bartender bar manager head bartender bartender"
            ]
          },
          "metadata": {
            "tags": []
          },
          "execution_count": 31
        }
      ]
    },
    {
      "cell_type": "code",
      "metadata": {
        "id": "xnefcIcImh0W",
        "colab_type": "code",
        "colab": {}
      },
      "source": [
        "positions =  pd.read_csv(\"/content/job-dataset/Positions_Of_Interest.csv\", sep=',') #position of interests to various applicants"
      ],
      "execution_count": 134,
      "outputs": []
    },
    {
      "cell_type": "code",
      "metadata": {
        "id": "MNsj9lILPnaP",
        "colab_type": "code",
        "colab": {
          "base_uri": "https://localhost:8080/",
          "height": 195
        },
        "outputId": "5dd68bf5-d490-45f4-c57a-21d5b0494298"
      },
      "source": [
        "positions.head()"
      ],
      "execution_count": 135,
      "outputs": [
        {
          "output_type": "execute_result",
          "data": {
            "text/html": [
              "<div>\n",
              "<style scoped>\n",
              "    .dataframe tbody tr th:only-of-type {\n",
              "        vertical-align: middle;\n",
              "    }\n",
              "\n",
              "    .dataframe tbody tr th {\n",
              "        vertical-align: top;\n",
              "    }\n",
              "\n",
              "    .dataframe thead th {\n",
              "        text-align: right;\n",
              "    }\n",
              "</style>\n",
              "<table border=\"1\" class=\"dataframe\">\n",
              "  <thead>\n",
              "    <tr style=\"text-align: right;\">\n",
              "      <th></th>\n",
              "      <th>Applicant.ID</th>\n",
              "      <th>Position.Of.Interest</th>\n",
              "      <th>Created.At</th>\n",
              "      <th>Updated.At</th>\n",
              "    </tr>\n",
              "  </thead>\n",
              "  <tbody>\n",
              "    <tr>\n",
              "      <th>0</th>\n",
              "      <td>10003</td>\n",
              "      <td>security officer</td>\n",
              "      <td>2014-12-12 21:20:54 UTC</td>\n",
              "      <td>2014-12-12 21:20:54 UTC</td>\n",
              "    </tr>\n",
              "    <tr>\n",
              "      <th>1</th>\n",
              "      <td>10007</td>\n",
              "      <td>Server</td>\n",
              "      <td>2014-08-14 15:56:42 UTC</td>\n",
              "      <td>2015-02-26 20:35:12 UTC</td>\n",
              "    </tr>\n",
              "    <tr>\n",
              "      <th>2</th>\n",
              "      <td>10007</td>\n",
              "      <td>Bartender</td>\n",
              "      <td>2014-08-14 15:56:44 UTC</td>\n",
              "      <td>2015-02-19 23:21:28 UTC</td>\n",
              "    </tr>\n",
              "    <tr>\n",
              "      <th>3</th>\n",
              "      <td>10008</td>\n",
              "      <td>Host</td>\n",
              "      <td>2014-08-14 15:56:42 UTC</td>\n",
              "      <td>2015-02-26 20:35:12 UTC</td>\n",
              "    </tr>\n",
              "    <tr>\n",
              "      <th>4</th>\n",
              "      <td>10008</td>\n",
              "      <td>Barista</td>\n",
              "      <td>2014-08-14 15:56:43 UTC</td>\n",
              "      <td>2015-02-18 02:35:06 UTC</td>\n",
              "    </tr>\n",
              "  </tbody>\n",
              "</table>\n",
              "</div>"
            ],
            "text/plain": [
              "   Applicant.ID  ...               Updated.At\n",
              "0         10003  ...  2014-12-12 21:20:54 UTC\n",
              "1         10007  ...  2015-02-26 20:35:12 UTC\n",
              "2         10007  ...  2015-02-19 23:21:28 UTC\n",
              "3         10008  ...  2015-02-26 20:35:12 UTC\n",
              "4         10008  ...  2015-02-18 02:35:06 UTC\n",
              "\n",
              "[5 rows x 4 columns]"
            ]
          },
          "metadata": {
            "tags": []
          },
          "execution_count": 135
        }
      ]
    },
    {
      "cell_type": "markdown",
      "metadata": {
        "id": "7VTzIPC300lQ",
        "colab_type": "text"
      },
      "source": [
        "Preparing the corpus of Positions of Interest and pre-processing the text to be used later in recommending jobs "
      ]
    },
    {
      "cell_type": "code",
      "metadata": {
        "id": "MYOuVbOT3aIq",
        "colab_type": "code",
        "colab": {
          "base_uri": "https://localhost:8080/",
          "height": 195
        },
        "outputId": "58bc8659-9037-4b59-bbcc-92e177eb96c6"
      },
      "source": [
        "positions_new=positions.drop(['Created.At', 'Updated.At'], axis=1)\n",
        "positions_new.head()"
      ],
      "execution_count": 136,
      "outputs": [
        {
          "output_type": "execute_result",
          "data": {
            "text/html": [
              "<div>\n",
              "<style scoped>\n",
              "    .dataframe tbody tr th:only-of-type {\n",
              "        vertical-align: middle;\n",
              "    }\n",
              "\n",
              "    .dataframe tbody tr th {\n",
              "        vertical-align: top;\n",
              "    }\n",
              "\n",
              "    .dataframe thead th {\n",
              "        text-align: right;\n",
              "    }\n",
              "</style>\n",
              "<table border=\"1\" class=\"dataframe\">\n",
              "  <thead>\n",
              "    <tr style=\"text-align: right;\">\n",
              "      <th></th>\n",
              "      <th>Applicant.ID</th>\n",
              "      <th>Position.Of.Interest</th>\n",
              "    </tr>\n",
              "  </thead>\n",
              "  <tbody>\n",
              "    <tr>\n",
              "      <th>0</th>\n",
              "      <td>10003</td>\n",
              "      <td>security officer</td>\n",
              "    </tr>\n",
              "    <tr>\n",
              "      <th>1</th>\n",
              "      <td>10007</td>\n",
              "      <td>Server</td>\n",
              "    </tr>\n",
              "    <tr>\n",
              "      <th>2</th>\n",
              "      <td>10007</td>\n",
              "      <td>Bartender</td>\n",
              "    </tr>\n",
              "    <tr>\n",
              "      <th>3</th>\n",
              "      <td>10008</td>\n",
              "      <td>Host</td>\n",
              "    </tr>\n",
              "    <tr>\n",
              "      <th>4</th>\n",
              "      <td>10008</td>\n",
              "      <td>Barista</td>\n",
              "    </tr>\n",
              "  </tbody>\n",
              "</table>\n",
              "</div>"
            ],
            "text/plain": [
              "   Applicant.ID Position.Of.Interest\n",
              "0         10003     security officer\n",
              "1         10007               Server\n",
              "2         10007            Bartender\n",
              "3         10008                 Host\n",
              "4         10008              Barista"
            ]
          },
          "metadata": {
            "tags": []
          },
          "execution_count": 136
        }
      ]
    },
    {
      "cell_type": "code",
      "metadata": {
        "id": "GOXK7kxf3pxi",
        "colab_type": "code",
        "colab": {
          "base_uri": "https://localhost:8080/",
          "height": 195
        },
        "outputId": "f8d56c2a-50aa-4f36-c797-d3bfa5f22981"
      },
      "source": [
        "positions_new['Position.Of.Interest']=positions_new['Position.Of.Interest'].apply(text_prepare)\n",
        "positions_new= positions_new.groupby('Applicant.ID', sort=True)['Position.Of.Interest'].apply(' '.join).reset_index()\n",
        "positions_new.head()"
      ],
      "execution_count": 137,
      "outputs": [
        {
          "output_type": "execute_result",
          "data": {
            "text/html": [
              "<div>\n",
              "<style scoped>\n",
              "    .dataframe tbody tr th:only-of-type {\n",
              "        vertical-align: middle;\n",
              "    }\n",
              "\n",
              "    .dataframe tbody tr th {\n",
              "        vertical-align: top;\n",
              "    }\n",
              "\n",
              "    .dataframe thead th {\n",
              "        text-align: right;\n",
              "    }\n",
              "</style>\n",
              "<table border=\"1\" class=\"dataframe\">\n",
              "  <thead>\n",
              "    <tr style=\"text-align: right;\">\n",
              "      <th></th>\n",
              "      <th>Applicant.ID</th>\n",
              "      <th>Position.Of.Interest</th>\n",
              "    </tr>\n",
              "  </thead>\n",
              "  <tbody>\n",
              "    <tr>\n",
              "      <th>0</th>\n",
              "      <td>96</td>\n",
              "      <td>server</td>\n",
              "    </tr>\n",
              "    <tr>\n",
              "      <th>1</th>\n",
              "      <td>153</td>\n",
              "      <td>server host barista customer service rep sales...</td>\n",
              "    </tr>\n",
              "    <tr>\n",
              "      <th>2</th>\n",
              "      <td>256</td>\n",
              "      <td>server host receptionist book keeper customer ...</td>\n",
              "    </tr>\n",
              "    <tr>\n",
              "      <th>3</th>\n",
              "      <td>438</td>\n",
              "      <td>server host barista customer service rep</td>\n",
              "    </tr>\n",
              "    <tr>\n",
              "      <th>4</th>\n",
              "      <td>568</td>\n",
              "      <td>receptionist book keeper customer service rep</td>\n",
              "    </tr>\n",
              "  </tbody>\n",
              "</table>\n",
              "</div>"
            ],
            "text/plain": [
              "   Applicant.ID                               Position.Of.Interest\n",
              "0            96                                             server\n",
              "1           153  server host barista customer service rep sales...\n",
              "2           256  server host receptionist book keeper customer ...\n",
              "3           438           server host barista customer service rep\n",
              "4           568      receptionist book keeper customer service rep"
            ]
          },
          "metadata": {
            "tags": []
          },
          "execution_count": 137
        }
      ]
    },
    {
      "cell_type": "markdown",
      "metadata": {
        "id": "ppoTgm5n1EfZ",
        "colab_type": "text"
      },
      "source": [
        "Merging Job Views description and Experience by Applicant IDs"
      ]
    },
    {
      "cell_type": "code",
      "metadata": {
        "id": "a7LdKK7e3-Ki",
        "colab_type": "code",
        "colab": {
          "base_uri": "https://localhost:8080/",
          "height": 195
        },
        "outputId": "c1a10466-2aac-4f4c-be38-a193a8fec32a"
      },
      "source": [
        "jobviews_exp = job_views_description.merge(experience_list, left_on='Applicant.ID', right_on='Applicant.ID', how='outer')\n",
        "jobviews_exp = jobviews_exp.fillna(' ')\n",
        "jobviews_exp = jobviews_exp.sort_values(by='Applicant.ID')\n",
        "jobviews_exp.head()"
      ],
      "execution_count": 69,
      "outputs": [
        {
          "output_type": "execute_result",
          "data": {
            "text/html": [
              "<div>\n",
              "<style scoped>\n",
              "    .dataframe tbody tr th:only-of-type {\n",
              "        vertical-align: middle;\n",
              "    }\n",
              "\n",
              "    .dataframe tbody tr th {\n",
              "        vertical-align: top;\n",
              "    }\n",
              "\n",
              "    .dataframe thead th {\n",
              "        text-align: right;\n",
              "    }\n",
              "</style>\n",
              "<table border=\"1\" class=\"dataframe\">\n",
              "  <thead>\n",
              "    <tr style=\"text-align: right;\">\n",
              "      <th></th>\n",
              "      <th>Applicant.ID</th>\n",
              "      <th>complete_description</th>\n",
              "      <th>Position.Name</th>\n",
              "    </tr>\n",
              "  </thead>\n",
              "  <tbody>\n",
              "    <tr>\n",
              "      <th>4090</th>\n",
              "      <td>2</td>\n",
              "      <td></td>\n",
              "      <td>writer uloop blog volunteer</td>\n",
              "    </tr>\n",
              "    <tr>\n",
              "      <th>4565</th>\n",
              "      <td>3</td>\n",
              "      <td></td>\n",
              "      <td>prep cook server marketing intern</td>\n",
              "    </tr>\n",
              "    <tr>\n",
              "      <th>5706</th>\n",
              "      <td>6</td>\n",
              "      <td></td>\n",
              "      <td>project assistant</td>\n",
              "    </tr>\n",
              "    <tr>\n",
              "      <th>6122</th>\n",
              "      <td>8</td>\n",
              "      <td></td>\n",
              "      <td>deli clerk server cashier food prep order taker</td>\n",
              "    </tr>\n",
              "    <tr>\n",
              "      <th>3542</th>\n",
              "      <td>11</td>\n",
              "      <td></td>\n",
              "      <td>cashier</td>\n",
              "    </tr>\n",
              "  </tbody>\n",
              "</table>\n",
              "</div>"
            ],
            "text/plain": [
              "      Applicant.ID  ...                                    Position.Name\n",
              "4090             2  ...                      writer uloop blog volunteer\n",
              "4565             3  ...                prep cook server marketing intern\n",
              "5706             6  ...                                project assistant\n",
              "6122             8  ...  deli clerk server cashier food prep order taker\n",
              "3542            11  ...                                          cashier\n",
              "\n",
              "[5 rows x 3 columns]"
            ]
          },
          "metadata": {
            "tags": []
          },
          "execution_count": 69
        }
      ]
    },
    {
      "cell_type": "code",
      "metadata": {
        "id": "plopbJu97iqE",
        "colab_type": "code",
        "colab": {
          "base_uri": "https://localhost:8080/",
          "height": 35
        },
        "outputId": "bdf3126a-61a0-44aa-ab74-3df9975c8846"
      },
      "source": [
        "jobviews_exp['complete_description'][0]"
      ],
      "execution_count": 70,
      "outputs": [
        {
          "output_type": "execute_result",
          "data": {
            "application/vnd.google.colaboratory.intrinsic": {
              "type": "string"
            },
            "text/plain": [
              "'cashiers valets needed wallypark newark macy seasonal retail fragrance cashier garden city ny roosevelt field macy garden city'"
            ]
          },
          "metadata": {
            "tags": []
          },
          "execution_count": 70
        }
      ]
    },
    {
      "cell_type": "markdown",
      "metadata": {
        "id": "L-QqVyLd1Rr-",
        "colab_type": "text"
      },
      "source": [
        "Merging Job Views+Experience data with Position of Interest data by Applicant IDs"
      ]
    },
    {
      "cell_type": "code",
      "metadata": {
        "id": "pbEAAEIe8P1u",
        "colab_type": "code",
        "colab": {
          "base_uri": "https://localhost:8080/",
          "height": 195
        },
        "outputId": "5b51c66b-ff3f-4b7d-9768-4583b1c06732"
      },
      "source": [
        "jobviews_exp_interests=jobviews_exp.merge(positions_new, left_on='Applicant.ID', right_on='Applicant.ID', how='outer')\n",
        "jobviews_exp_interests = jobviews_exp_interests.fillna(' ')\n",
        "jobviews_exp_interests = jobviews_exp_interests.sort_values(by='Applicant.ID')\n",
        "jobviews_exp_interests.head()"
      ],
      "execution_count": 71,
      "outputs": [
        {
          "output_type": "execute_result",
          "data": {
            "text/html": [
              "<div>\n",
              "<style scoped>\n",
              "    .dataframe tbody tr th:only-of-type {\n",
              "        vertical-align: middle;\n",
              "    }\n",
              "\n",
              "    .dataframe tbody tr th {\n",
              "        vertical-align: top;\n",
              "    }\n",
              "\n",
              "    .dataframe thead th {\n",
              "        text-align: right;\n",
              "    }\n",
              "</style>\n",
              "<table border=\"1\" class=\"dataframe\">\n",
              "  <thead>\n",
              "    <tr style=\"text-align: right;\">\n",
              "      <th></th>\n",
              "      <th>Applicant.ID</th>\n",
              "      <th>complete_description</th>\n",
              "      <th>Position.Name</th>\n",
              "      <th>Position.Of.Interest</th>\n",
              "    </tr>\n",
              "  </thead>\n",
              "  <tbody>\n",
              "    <tr>\n",
              "      <th>0</th>\n",
              "      <td>2</td>\n",
              "      <td></td>\n",
              "      <td>writer uloop blog volunteer</td>\n",
              "      <td></td>\n",
              "    </tr>\n",
              "    <tr>\n",
              "      <th>1</th>\n",
              "      <td>3</td>\n",
              "      <td></td>\n",
              "      <td>prep cook server marketing intern</td>\n",
              "      <td></td>\n",
              "    </tr>\n",
              "    <tr>\n",
              "      <th>2</th>\n",
              "      <td>6</td>\n",
              "      <td></td>\n",
              "      <td>project assistant</td>\n",
              "      <td></td>\n",
              "    </tr>\n",
              "    <tr>\n",
              "      <th>3</th>\n",
              "      <td>8</td>\n",
              "      <td></td>\n",
              "      <td>deli clerk server cashier food prep order taker</td>\n",
              "      <td></td>\n",
              "    </tr>\n",
              "    <tr>\n",
              "      <th>4</th>\n",
              "      <td>11</td>\n",
              "      <td></td>\n",
              "      <td>cashier</td>\n",
              "      <td></td>\n",
              "    </tr>\n",
              "  </tbody>\n",
              "</table>\n",
              "</div>"
            ],
            "text/plain": [
              "   Applicant.ID  ... Position.Of.Interest\n",
              "0             2  ...                     \n",
              "1             3  ...                     \n",
              "2             6  ...                     \n",
              "3             8  ...                     \n",
              "4            11  ...                     \n",
              "\n",
              "[5 rows x 4 columns]"
            ]
          },
          "metadata": {
            "tags": []
          },
          "execution_count": 71
        }
      ]
    },
    {
      "cell_type": "code",
      "metadata": {
        "id": "XRr-dzCR-Fae",
        "colab_type": "code",
        "colab": {
          "base_uri": "https://localhost:8080/",
          "height": 34
        },
        "outputId": "229f9fb3-6b79-4ab8-d4aa-476f1e7bde4f"
      },
      "source": [
        "jobviews_exp_interests.columns[1:4]"
      ],
      "execution_count": 39,
      "outputs": [
        {
          "output_type": "execute_result",
          "data": {
            "text/plain": [
              "Index(['complete_description', 'Position.Name', 'Position.Of.Interest'], dtype='object')"
            ]
          },
          "metadata": {
            "tags": []
          },
          "execution_count": 39
        }
      ]
    },
    {
      "cell_type": "markdown",
      "metadata": {
        "id": "ejsYIRhx1ddg",
        "colab_type": "text"
      },
      "source": [
        "Forming a text corpus merging the jobs viewed descriptions, experience/previous positions held and Positions of Interest indicated by Applicants"
      ]
    },
    {
      "cell_type": "code",
      "metadata": {
        "id": "5ZHq8r7_9j2n",
        "colab_type": "code",
        "colab": {
          "base_uri": "https://localhost:8080/",
          "height": 195
        },
        "outputId": "47541780-5b51-4d71-e541-2d2827738bf3"
      },
      "source": [
        "jobviews_exp_interests['viewedjob+experience+interestedposition']=jobviews_exp_interests[jobviews_exp_interests.columns[1:4]].apply(lambda x: ' '.join(x.dropna().astype(str)),axis=1)\n",
        "jobviews_exp_interests.head()"
      ],
      "execution_count": 72,
      "outputs": [
        {
          "output_type": "execute_result",
          "data": {
            "text/html": [
              "<div>\n",
              "<style scoped>\n",
              "    .dataframe tbody tr th:only-of-type {\n",
              "        vertical-align: middle;\n",
              "    }\n",
              "\n",
              "    .dataframe tbody tr th {\n",
              "        vertical-align: top;\n",
              "    }\n",
              "\n",
              "    .dataframe thead th {\n",
              "        text-align: right;\n",
              "    }\n",
              "</style>\n",
              "<table border=\"1\" class=\"dataframe\">\n",
              "  <thead>\n",
              "    <tr style=\"text-align: right;\">\n",
              "      <th></th>\n",
              "      <th>Applicant.ID</th>\n",
              "      <th>complete_description</th>\n",
              "      <th>Position.Name</th>\n",
              "      <th>Position.Of.Interest</th>\n",
              "      <th>viewedjob+experience+interestedposition</th>\n",
              "    </tr>\n",
              "  </thead>\n",
              "  <tbody>\n",
              "    <tr>\n",
              "      <th>0</th>\n",
              "      <td>2</td>\n",
              "      <td></td>\n",
              "      <td>writer uloop blog volunteer</td>\n",
              "      <td></td>\n",
              "      <td>writer uloop blog volunteer</td>\n",
              "    </tr>\n",
              "    <tr>\n",
              "      <th>1</th>\n",
              "      <td>3</td>\n",
              "      <td></td>\n",
              "      <td>prep cook server marketing intern</td>\n",
              "      <td></td>\n",
              "      <td>prep cook server marketing intern</td>\n",
              "    </tr>\n",
              "    <tr>\n",
              "      <th>2</th>\n",
              "      <td>6</td>\n",
              "      <td></td>\n",
              "      <td>project assistant</td>\n",
              "      <td></td>\n",
              "      <td>project assistant</td>\n",
              "    </tr>\n",
              "    <tr>\n",
              "      <th>3</th>\n",
              "      <td>8</td>\n",
              "      <td></td>\n",
              "      <td>deli clerk server cashier food prep order taker</td>\n",
              "      <td></td>\n",
              "      <td>deli clerk server cashier food prep order ta...</td>\n",
              "    </tr>\n",
              "    <tr>\n",
              "      <th>4</th>\n",
              "      <td>11</td>\n",
              "      <td></td>\n",
              "      <td>cashier</td>\n",
              "      <td></td>\n",
              "      <td>cashier</td>\n",
              "    </tr>\n",
              "  </tbody>\n",
              "</table>\n",
              "</div>"
            ],
            "text/plain": [
              "   Applicant.ID  ...            viewedjob+experience+interestedposition\n",
              "0             2  ...                      writer uloop blog volunteer  \n",
              "1             3  ...                prep cook server marketing intern  \n",
              "2             6  ...                                project assistant  \n",
              "3             8  ...    deli clerk server cashier food prep order ta...\n",
              "4            11  ...                                          cashier  \n",
              "\n",
              "[5 rows x 5 columns]"
            ]
          },
          "metadata": {
            "tags": []
          },
          "execution_count": 72
        }
      ]
    },
    {
      "cell_type": "markdown",
      "metadata": {
        "id": "-kUsoG6J3MTn",
        "colab_type": "text"
      },
      "source": [
        "Forming Dictionary of word embeddings from Starspace embeddings model saved previously"
      ]
    },
    {
      "cell_type": "code",
      "metadata": {
        "id": "XKaimOQeWfHP",
        "colab_type": "code",
        "colab": {}
      },
      "source": [
        "starspace_embeddings_1 = dict()\n",
        "for line in open('starspace_embedding_jobs.tsv', encoding='utf-8'):\n",
        "    row = line.strip().split('\\t')\n",
        "    starspace_embeddings_1[row[0]] = np.array(row[1:], dtype=np.float32)"
      ],
      "execution_count": 41,
      "outputs": []
    },
    {
      "cell_type": "markdown",
      "metadata": {
        "id": "kvVFwY9H3TLv",
        "colab_type": "text"
      },
      "source": [
        "Converting the User data to vector based on the embeddings"
      ]
    },
    {
      "cell_type": "code",
      "metadata": {
        "id": "vLVEm9uvXJKI",
        "colab_type": "code",
        "colab": {}
      },
      "source": [
        "def question_to_vec(question, embeddings, dim):\n",
        "    result= np.zeros(dim)\n",
        "    no_of_words=0\n",
        "    words=question.split()\n",
        "    for word in words:\n",
        "      if word in embeddings:\n",
        "        no_of_words=no_of_words+1\n",
        "        embed=embeddings[str(word)]\n",
        "        result+=embed\n",
        "\n",
        "    if no_of_words!=0:\n",
        "      result=result/no_of_words\n",
        "      \n",
        "    return result"
      ],
      "execution_count": 42,
      "outputs": []
    },
    {
      "cell_type": "markdown",
      "metadata": {
        "id": "c0HxXNst3cO3",
        "colab_type": "text"
      },
      "source": [
        "Ranking based on Applicant data's similarity to candidates and selecting the top 11 candidates"
      ]
    },
    {
      "cell_type": "code",
      "metadata": {
        "id": "B8PpWbfWWrge",
        "colab_type": "code",
        "colab": {}
      },
      "source": [
        "def rank_candidates(question, candidates, embeddings, dim):\n",
        "    \n",
        "    question_vec = np.array([question_to_vec(question, embeddings, dim) for i in range(len(candidates))])\n",
        "    #print(question_vec)\n",
        "    candidate_vec = np.array([question_to_vec(candidate, embeddings, dim) for candidate in candidates])\n",
        "    #print(candidate_vec)\n",
        "    cosine_sim = np.array(cosine_similarity(question_vec, candidate_vec)[0]) #similarity in applicant data provided and job listings\n",
        "    #print(cosine_sim)\n",
        "    merged_list = list(zip(cosine_sim, range(len(candidates)), candidates))\n",
        "    #print(merged_list)\n",
        "    sorted_list  = sorted(merged_list, key=lambda x: x[0], reverse=True)\n",
        "    sorted_list= sorted_list[:11]\n",
        "    result = [(b,c) for a,b,c in sorted_list]\n",
        "    return result"
      ],
      "execution_count": 171,
      "outputs": []
    },
    {
      "cell_type": "code",
      "metadata": {
        "id": "dKt2WvbgW09L",
        "colab_type": "code",
        "colab": {}
      },
      "source": [
        "from sklearn.metrics.pairwise import pairwise_distances_argmin\n",
        "from sklearn.metrics.pairwise import cosine_similarity"
      ],
      "execution_count": 115,
      "outputs": []
    },
    {
      "cell_type": "markdown",
      "metadata": {
        "id": "WQuMKIQL3zYc",
        "colab_type": "text"
      },
      "source": [
        "Getting Recommendation based on the Applicant IDs"
      ]
    },
    {
      "cell_type": "code",
      "metadata": {
        "id": "mm89c7YDhEuJ",
        "colab_type": "code",
        "colab": {}
      },
      "source": [
        "def get_recommedations(app_id):\n",
        "  applicant_info=jobviews_exp_interests.loc[jobviews_exp_interests['Applicant.ID']==app_id]\n",
        "  app_data=applicant_info['viewedjob+experience+interestedposition'].values[0] #applicant's data collected\n",
        "  print('Applicant ID: ', app_id )\n",
        "  pos_int=list(positions['Position.Of.Interest'].loc[positions['Applicant.ID']==app_id].values)\n",
        "  print('Position/ Positions of Interest: ')\n",
        "  for i in range(len(pos_int)):\n",
        "    print(str(i+1)+str('. ')+pos_int[i])\n",
        "  pos_held=list(experience['Position.Name'].loc[experience['Applicant.ID']==app_id].values)\n",
        "  print('Previous Position/Positions held: ')\n",
        "  for i in range(len(pos_held)):\n",
        "    print(str(i+1)+str('. ')+pos_held[i])\n",
        "  job_viewed=list(job_views['Title'].loc[job_views['Applicant.ID']==app_id].values)\n",
        "  print('Jobs Viewed:')\n",
        "  for i in range(len(job_viewed)):\n",
        "    print(str(i+1)+str('. ')+job_viewed[i])\n",
        "  # Due to memory constraints, it allows only 30,000 candidates to be ranked at once\n",
        "  # using applicant's data and job listings from 10,000 to 40,000 to make predictions\n",
        "  result=rank_candidates(app_data, jobs_info['complete_description'][10000:40000], starspace_embeddings_1, 100)[1:]  \n",
        "  result_index=[i[0]+10000 for i in result] # as we are starting from 10,000\n",
        "  print('Job Recommendations:')\n",
        "  recommendations=pd.DataFrame(jobs_info.loc[result_index, ['Title', 'Position','City']])\n",
        "  return recommendations"
      ],
      "execution_count": 174,
      "outputs": []
    },
    {
      "cell_type": "code",
      "metadata": {
        "id": "i1dhzvmRkLUe",
        "colab_type": "code",
        "colab": {
          "base_uri": "https://localhost:8080/",
          "height": 545
        },
        "outputId": "5d3f3b60-17e7-44c4-8744-249c08566843"
      },
      "source": [
        "recommendation=get_recommedations(10085) #for applicant ID 10085\n",
        "recommendation"
      ],
      "execution_count": 176,
      "outputs": [
        {
          "output_type": "stream",
          "text": [
            "Applicant ID:  10085\n",
            "Position/ Positions of Interest: \n",
            "1. Host\n",
            "2. Receptionist\n",
            "3. Customer Service Rep\n",
            "Previous Position/Positions held: \n",
            "1. cashier\n",
            "Jobs Viewed:\n",
            "1. Entry Level Sales / Customer Service – Part time / Full Time @ Vector Marketing\n",
            "2. Entry Level Sales / Customer Service – Part time / Full Time @ Vector Marketing\n",
            "3. Entry Level Sales / Customer Service – Part time / Full Time @ Vector Marketing\n",
            "Job Recommendations:\n"
          ],
          "name": "stdout"
        },
        {
          "output_type": "execute_result",
          "data": {
            "text/html": [
              "<div>\n",
              "<style scoped>\n",
              "    .dataframe tbody tr th:only-of-type {\n",
              "        vertical-align: middle;\n",
              "    }\n",
              "\n",
              "    .dataframe tbody tr th {\n",
              "        vertical-align: top;\n",
              "    }\n",
              "\n",
              "    .dataframe thead th {\n",
              "        text-align: right;\n",
              "    }\n",
              "</style>\n",
              "<table border=\"1\" class=\"dataframe\">\n",
              "  <thead>\n",
              "    <tr style=\"text-align: right;\">\n",
              "      <th></th>\n",
              "      <th>Title</th>\n",
              "      <th>Position</th>\n",
              "      <th>City</th>\n",
              "    </tr>\n",
              "  </thead>\n",
              "  <tbody>\n",
              "    <tr>\n",
              "      <th>17581</th>\n",
              "      <td>Entry Level Customer Service / Entry Level Ret...</td>\n",
              "      <td>Entry Level Customer Service / Entry Level Ret...</td>\n",
              "      <td>Fresno</td>\n",
              "    </tr>\n",
              "    <tr>\n",
              "      <th>32475</th>\n",
              "      <td>Junior Sales/Marketing Training @ Interview Now</td>\n",
              "      <td>Junior Sales/Marketing Training</td>\n",
              "      <td>Gaithersburg</td>\n",
              "    </tr>\n",
              "    <tr>\n",
              "      <th>39612</th>\n",
              "      <td>CUSTOMER SERVICE POSITIONS OPEN-HIRING ENTRY L...</td>\n",
              "      <td>CUSTOMER SERVICE POSITIONS OPEN-HIRING ENTRY L...</td>\n",
              "      <td>Albuquerque</td>\n",
              "    </tr>\n",
              "    <tr>\n",
              "      <th>19025</th>\n",
              "      <td>Dishwasher @ Claridge Court</td>\n",
              "      <td>Dishwasher</td>\n",
              "      <td>Prairie Village</td>\n",
              "    </tr>\n",
              "    <tr>\n",
              "      <th>16542</th>\n",
              "      <td>CUSTOMER SERVICE POSITIONS OPEN-HIRING ENTRY L...</td>\n",
              "      <td>CUSTOMER SERVICE POSITIONS OPEN-HIRING ENTRY L...</td>\n",
              "      <td>Marion</td>\n",
              "    </tr>\n",
              "    <tr>\n",
              "      <th>20166</th>\n",
              "      <td>Customer Service -- Management Training -- Vot...</td>\n",
              "      <td>Customer Service -- Management Training -- Vot...</td>\n",
              "      <td>Tysons Corner</td>\n",
              "    </tr>\n",
              "    <tr>\n",
              "      <th>29512</th>\n",
              "      <td>CUSTOMER SERVICE REPRESENTATIVE  - FULL TIME @...</td>\n",
              "      <td>CUSTOMER SERVICE REPRESENTATIVE  - FULL TIME</td>\n",
              "      <td>Dayton</td>\n",
              "    </tr>\n",
              "    <tr>\n",
              "      <th>30483</th>\n",
              "      <td>Nurse Aide @ Carespring Health Care Management</td>\n",
              "      <td>Nurse Aide</td>\n",
              "      <td>West Chester</td>\n",
              "    </tr>\n",
              "    <tr>\n",
              "      <th>32654</th>\n",
              "      <td>MANAGEMENT TRAINEE- CUSTOMER SERVICE- FULL TIM...</td>\n",
              "      <td>MANAGEMENT TRAINEE- CUSTOMER SERVICE- FULL TIME</td>\n",
              "      <td>Toms River</td>\n",
              "    </tr>\n",
              "    <tr>\n",
              "      <th>14384</th>\n",
              "      <td>CUSTOMER SERVICE POSITIONS OPEN-HIRING ENTRY L...</td>\n",
              "      <td>CUSTOMER SERVICE POSITIONS OPEN-HIRING ENTRY L...</td>\n",
              "      <td>Cape Girardeau</td>\n",
              "    </tr>\n",
              "  </tbody>\n",
              "</table>\n",
              "</div>"
            ],
            "text/plain": [
              "                                                   Title  ...             City\n",
              "17581  Entry Level Customer Service / Entry Level Ret...  ...           Fresno\n",
              "32475    Junior Sales/Marketing Training @ Interview Now  ...     Gaithersburg\n",
              "39612  CUSTOMER SERVICE POSITIONS OPEN-HIRING ENTRY L...  ...      Albuquerque\n",
              "19025                        Dishwasher @ Claridge Court  ...  Prairie Village\n",
              "16542  CUSTOMER SERVICE POSITIONS OPEN-HIRING ENTRY L...  ...           Marion\n",
              "20166  Customer Service -- Management Training -- Vot...  ...    Tysons Corner\n",
              "29512  CUSTOMER SERVICE REPRESENTATIVE  - FULL TIME @...  ...           Dayton\n",
              "30483     Nurse Aide @ Carespring Health Care Management  ...     West Chester\n",
              "32654  MANAGEMENT TRAINEE- CUSTOMER SERVICE- FULL TIM...  ...       Toms River\n",
              "14384  CUSTOMER SERVICE POSITIONS OPEN-HIRING ENTRY L...  ...   Cape Girardeau\n",
              "\n",
              "[10 rows x 3 columns]"
            ]
          },
          "metadata": {
            "tags": []
          },
          "execution_count": 176
        }
      ]
    }
  ]
}